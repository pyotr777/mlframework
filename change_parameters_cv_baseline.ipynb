{
 "cells": [
  {
   "cell_type": "code",
   "execution_count": 1,
   "metadata": {
    "collapsed": false
   },
   "outputs": [
    {
     "name": "stdout",
     "output_type": "stream",
     "text": [
      "__main__\n",
      ">> maxiter : (1, 6, 2) <type 'tuple'>\n",
      "Tuple length = 3\n",
      "1 6 2\n",
      "maxiter=1\n",
      "maxiter=3\n",
      "maxiter=5\n",
      ">> model : ['fasttext', 'mlp3l'] <type 'list'>\n",
      "List length = 2\n",
      "model=fasttext\n",
      "model=mlp3l\n",
      ">> nodif : False <type 'bool'>\n",
      "nodif is False\n",
      ">> tfdif : True <type 'bool'>\n",
      "tfdif is True\n",
      ">> decay : (0, 0.8, 0.2) <type 'tuple'>\n",
      "Tuple length = 3\n",
      "0 0.8 0.2\n",
      "decay=0.0\n",
      "decay=0.2\n",
      "decay=0.4\n",
      "decay=0.6\n",
      "[['maxiter', 1, 3, 5], ['model', 'fasttext', 'mlp3l'], ['tfdif', ''], ['decay', 0.0, 0.20000000000000001, 0.40000000000000002, 0.60000000000000009]]\n"
     ]
    }
   ],
   "source": [
    "# Produce number of tasks with parameters from given ranges.\n",
    "# 2017 (C) Bryzgalov Peter @ CHITEC, Stair Lab\n",
    "\n",
    "import yaml\n",
    "import pprint\n",
    "import numpy as np\n",
    "\n",
    "def yaml_load(filepath):\n",
    "    with open(filepath,\"r\") as fd:\n",
    "        data = yaml.load(fd)\n",
    "    return data\n",
    "\n",
    "def yaml_dump(filepath, data):\n",
    "    with open(filepath, \"w\") as fd:\n",
    "        yaml.dump(data, fd)\n",
    "        fd.close()\n",
    "\n",
    "print __name__\n",
    "if __name__ == \"__main__\":\n",
    "    \n",
    "    par_matrix = []\n",
    "    filepath = \"bowcnn/paramtest.yml\"\n",
    "    data=yaml_load(filepath)\n",
    "    if type(data) is dict:\n",
    "        for k in data:\n",
    "            param = data[k]\n",
    "            print \">> \"+k + \" : \" + str(data[k]) + \" \"+str(type(param))\n",
    "            \n",
    "            if type(param) is list:\n",
    "                llength=len(param)\n",
    "                print \"List length = \" + str(llength)\n",
    "                for par in param:\n",
    "                    print k+\"=\"+str(par)\n",
    "                matrix_line = [k]\n",
    "                matrix_line.extend(param)\n",
    "                par_matrix.append(matrix_line)\n",
    "            \n",
    "            elif type(param) is tuple:\n",
    "                llength=len(param)\n",
    "                print \"Tuple length = \" + str(llength)\n",
    "                if llength < 2:\n",
    "                    print \"Need range stat and end values: [start, end].\"\n",
    "                    print \"Only one value provided:\" + str(param)\n",
    "                    break\n",
    "                    \n",
    "                matrix_line = [k]\n",
    "                start=param[0]\n",
    "                end  =param[1]                \n",
    "                if llength > 2:\n",
    "                    step = param[2]\n",
    "                else:\n",
    "                    step = 1\n",
    "                print start, end, step\n",
    "                for val in np.arange(start, end, step):\n",
    "                    print k+\"=\"+str(val)\n",
    "                    matrix_line.append(val)\n",
    "                    \n",
    "                par_matrix.append(matrix_line)\n",
    "                \n",
    "            elif type(param) is bool:\n",
    "                print k + \" is \" + str(param)\n",
    "                if param:\n",
    "                    matrix_line=[k,\"\"]\n",
    "                    par_matrix.append(matrix_line)\n",
    "                \n",
    "            elif type(param) is dict:\n",
    "                # Not used in parametrisation\n",
    "                for key1 in param:\n",
    "                    print key1 + \"=\" + str(param[key1])\n",
    "\n",
    "    print par_matrix\n",
    "                    "
   ]
  },
  {
   "cell_type": "markdown",
   "metadata": {},
   "source": [
    "## Перебор элементов строк матрицы"
   ]
  },
  {
   "cell_type": "code",
   "execution_count": 2,
   "metadata": {
    "collapsed": false
   },
   "outputs": [],
   "source": [
    "#n = len(par_matrix) # Number of lines\n",
    "#par_matrix = np.array(par_matrix)\n",
    "#for i in range(0,n):\n",
    "#    print par_matrix[i]\n",
    "#    print str(par_matrix[i][1])+\" len:\"+str(len(par_matrix[i])-2)"
   ]
  },
  {
   "cell_type": "markdown",
   "metadata": {},
   "source": [
    "## Create list of all possible combinations"
   ]
  },
  {
   "cell_type": "code",
   "execution_count": 3,
   "metadata": {
    "collapsed": false
   },
   "outputs": [],
   "source": [
    "# Создаем список списков, где каждый список - \n",
    "# это номера элементов в соответствующих строках матрицы параметров.\n",
    "\n",
    "n = len(par_matrix) # Number of lines\n",
    "\n",
    "def concat(a,b):\n",
    "    comb = []\n",
    "    if type(a) is list:\n",
    "        comb.extend(a)\n",
    "    else:\n",
    "        comb.append(a)\n",
    "    if type(b) is list:\n",
    "        comb.extend(b)\n",
    "    else:\n",
    "        comb.append(b)\n",
    "    return comb\n",
    "\n",
    "def joinLists(a, b):\n",
    "    if len(a)==0:\n",
    "        return b\n",
    "    elif len(b)==0:\n",
    "        return a\n",
    "    c = []\n",
    "    for i in range (0, len(a)):\n",
    "        for j in range (0, len(b)):\n",
    "            combination=concat(a[i],b[j])\n",
    "            c.append(combination)\n",
    "    return c"
   ]
  },
  {
   "cell_type": "code",
   "execution_count": 4,
   "metadata": {
    "collapsed": false
   },
   "outputs": [
    {
     "name": "stdout",
     "output_type": "stream",
     "text": [
      "[['0' 'a' '1']\n",
      " ['0' 'a' '2']\n",
      " ['0' 'a' '3']\n",
      " ['0' 'b' '1']\n",
      " ['0' 'b' '2']\n",
      " ['0' 'b' '3']\n",
      " ['1' 'a' '1']\n",
      " ['1' 'a' '2']\n",
      " ['1' 'a' '3']\n",
      " ['1' 'b' '1']\n",
      " ['1' 'b' '2']\n",
      " ['1' 'b' '3']]\n"
     ]
    }
   ],
   "source": [
    "# Test combinations\n",
    "\n",
    "zero=[]\n",
    "a = [0,1]\n",
    "s = joinLists(a, zero)\n",
    "\n",
    "b = [\"a\",\"b\"]\n",
    "s = joinLists(s,b)\n",
    "\n",
    "d = [1,2,3]\n",
    "s = joinLists(s,d)\n",
    "print np.array(s)"
   ]
  },
  {
   "cell_type": "code",
   "execution_count": 5,
   "metadata": {
    "collapsed": false
   },
   "outputs": [
    {
     "name": "stdout",
     "output_type": "stream",
     "text": [
      "[['maxiter', 1, 3, 5], ['model', 'fasttext', 'mlp3l'], ['tfdif', ''], ['decay', 0.0, 0.20000000000000001, 0.40000000000000002, 0.60000000000000009]]\n"
     ]
    }
   ],
   "source": [
    "print par_matrix"
   ]
  },
  {
   "cell_type": "code",
   "execution_count": 6,
   "metadata": {
    "collapsed": false
   },
   "outputs": [
    {
     "name": "stdout",
     "output_type": "stream",
     "text": [
      "[1, 3, 5]\n",
      "['fasttext', 'mlp3l']\n",
      "['']\n",
      "[0.0, 0.20000000000000001, 0.40000000000000002, 0.60000000000000009]\n",
      "===\n",
      "[['1' 'fasttext' '' '0.0']\n",
      " ['1' 'fasttext' '' '0.2']\n",
      " ['1' 'fasttext' '' '0.4']\n",
      " ['1' 'fasttext' '' '0.6']\n",
      " ['1' 'mlp3l' '' '0.0']\n",
      " ['1' 'mlp3l' '' '0.2']\n",
      " ['1' 'mlp3l' '' '0.4']\n",
      " ['1' 'mlp3l' '' '0.6']\n",
      " ['3' 'fasttext' '' '0.0']\n",
      " ['3' 'fasttext' '' '0.2']\n",
      " ['3' 'fasttext' '' '0.4']\n",
      " ['3' 'fasttext' '' '0.6']\n",
      " ['3' 'mlp3l' '' '0.0']\n",
      " ['3' 'mlp3l' '' '0.2']\n",
      " ['3' 'mlp3l' '' '0.4']\n",
      " ['3' 'mlp3l' '' '0.6']\n",
      " ['5' 'fasttext' '' '0.0']\n",
      " ['5' 'fasttext' '' '0.2']\n",
      " ['5' 'fasttext' '' '0.4']\n",
      " ['5' 'fasttext' '' '0.6']\n",
      " ['5' 'mlp3l' '' '0.0']\n",
      " ['5' 'mlp3l' '' '0.2']\n",
      " ['5' 'mlp3l' '' '0.4']\n",
      " ['5' 'mlp3l' '' '0.6']]\n"
     ]
    }
   ],
   "source": [
    "# Create combinations matrix\n",
    "combinations=[]\n",
    "for l in range(0, len(par_matrix)):\n",
    "    line = par_matrix[l][1:]\n",
    "    print line\n",
    "    combinations = joinLists(combinations, line)\n",
    "print \"===\"\n",
    "print np.array(combinations)\n",
    "  "
   ]
  },
  {
   "cell_type": "code",
   "execution_count": 10,
   "metadata": {
    "collapsed": false
   },
   "outputs": [
    {
     "name": "stdout",
     "output_type": "stream",
     "text": [
      "<type 'str'>\n",
      "--maxiter 1 --model fasttext --tfdif  --decay 0.0 \n",
      "--maxiter 1 --model fasttext --tfdif  --decay 0.2 \n",
      "--maxiter 1 --model fasttext --tfdif  --decay 0.4 \n",
      "--maxiter 1 --model fasttext --tfdif  --decay 0.6 \n",
      "--maxiter 1 --model mlp3l --tfdif  --decay 0.0 \n",
      "--maxiter 1 --model mlp3l --tfdif  --decay 0.2 \n",
      "--maxiter 1 --model mlp3l --tfdif  --decay 0.4 \n",
      "--maxiter 1 --model mlp3l --tfdif  --decay 0.6 \n",
      "--maxiter 3 --model fasttext --tfdif  --decay 0.0 \n",
      "--maxiter 3 --model fasttext --tfdif  --decay 0.2 \n",
      "--maxiter 3 --model fasttext --tfdif  --decay 0.4 \n",
      "--maxiter 3 --model fasttext --tfdif  --decay 0.6 \n",
      "--maxiter 3 --model mlp3l --tfdif  --decay 0.0 \n",
      "--maxiter 3 --model mlp3l --tfdif  --decay 0.2 \n",
      "--maxiter 3 --model mlp3l --tfdif  --decay 0.4 \n",
      "--maxiter 3 --model mlp3l --tfdif  --decay 0.6 \n",
      "--maxiter 5 --model fasttext --tfdif  --decay 0.0 \n",
      "--maxiter 5 --model fasttext --tfdif  --decay 0.2 \n",
      "--maxiter 5 --model fasttext --tfdif  --decay 0.4 \n",
      "--maxiter 5 --model fasttext --tfdif  --decay 0.6 \n",
      "--maxiter 5 --model mlp3l --tfdif  --decay 0.0 \n",
      "--maxiter 5 --model mlp3l --tfdif  --decay 0.2 \n",
      "--maxiter 5 --model mlp3l --tfdif  --decay 0.4 \n",
      "--maxiter 5 --model mlp3l --tfdif  --decay 0.6 \n"
     ]
    }
   ],
   "source": [
    "# Generate all options combinations\n",
    "print str\n",
    "for c in range(0,len(combinations)):\n",
    "    s = \"\"\n",
    "    for l in range(0, len(par_matrix)):\n",
    "        #print par_matrix[l][0],combinations[c][l]\n",
    "        s += \"--\"+str(par_matrix[l][0])+\" \"+str(combinations[c][l])+\" \"\n",
    "    print s"
   ]
  },
  {
   "cell_type": "code",
   "execution_count": 13,
   "metadata": {
    "collapsed": false
   },
   "outputs": [],
   "source": [
    "# Wrap all possible combinations to dictionaries.\n",
    "# Basic dictionary:\n",
    "basic_dict = {\n",
    "    \"a\": \"val\"\n",
    "}\n",
    "\n",
    "for c in range(0,len(combinations)):\n",
    "    s = \"\"\n",
    "    for l in range(0, len(par_matrix)):\n",
    "        #print par_matrix[l][0],combinations[c][l]\n",
    "        dict[par_matrix[l][0]]=str(combinations[c][l])\n",
    "\n"
   ]
  },
  {
   "cell_type": "code",
   "execution_count": null,
   "metadata": {
    "collapsed": true
   },
   "outputs": [],
   "source": []
  },
  {
   "cell_type": "markdown",
   "metadata": {
    "collapsed": true
   },
   "source": [
    "### Fixed (not changing) parameters for cv_baseline.py call"
   ]
  },
  {
   "cell_type": "code",
   "execution_count": 15,
   "metadata": {
    "collapsed": false
   },
   "outputs": [],
   "source": [
    "pars = {\n",
    "    'maxiter':2,\n",
    "    'model':\"fasttext\",\n",
    "    'dataset':\"TwentyNg\",\n",
    "    'minibatchsize':50,\n",
    "    'nfolds':1\n",
    "}"
   ]
  },
  {
   "cell_type": "code",
   "execution_count": 42,
   "metadata": {
    "collapsed": false
   },
   "outputs": [
    {
     "name": "stdout",
     "output_type": "stream",
     "text": [
      "{'model': 'fasttext', 'dataset': 'TwentyNg', 'minibatchsize': 50, 'maxiter': 10}\n",
      "python -m bowcnn.cv_baseline.py --model fasttext --dataset TwentyNg --minibatchsize 50 --maxiter 10\n"
     ]
    }
   ],
   "source": [
    "from subprocess import Popen, PIPE, STDOUT\n",
    "print str(pars)\n",
    "cmd = \"python bowcnn.cv_baseline.py\"\n",
    "for key in pars:\n",
    "    cmd += \" --\"+key+\" \"+str(pars[key])\n",
    "print cmd"
   ]
  },
  {
   "cell_type": "markdown",
   "metadata": {},
   "source": [
    "## Start bowcnn.cv_baseline"
   ]
  },
  {
   "cell_type": "code",
   "execution_count": 68,
   "metadata": {
    "collapsed": false
   },
   "outputs": [
    {
     "name": "stdout",
     "output_type": "stream",
     "text": [
      "{'normalizecount': False, 'jsonresult': None, 'dropoutrate': 0.3, 'nemb': 50, 'decay': 0, 'nfolds': 5, 'minibatchsize': 50, 'dataset': 'TwentyNg', 'tfidf': False, 'output': None, 'randomstate': 0, 'maxiter': 10, 'gpu': -1, 'model': 'fasttext', 'optimizer': 'adam'}\n",
      "---------------------------------------- fold 1 ----------------------------------------\n",
      "epoch   1: train loss = 9.397951e+00, train acc = 2.319341e-01, test acc = 2.082891e-01\n",
      "epoch   2: train loss = 4.700263e+00, train acc = 3.902763e-01, test acc = 3.498937e-01\n",
      "epoch   3: train loss = 2.910558e+00, train acc = 4.921626e-01, test acc = 4.327843e-01\n",
      "epoch   4: train loss = 2.028299e+00, train acc = 5.657545e-01, test acc = 4.904357e-01\n",
      "epoch   5: train loss = 1.544608e+00, train acc = 6.178268e-01, test acc = 5.377258e-01\n",
      "epoch   6: train loss = 1.266957e+00, train acc = 6.582758e-01, test acc = 5.717322e-01\n",
      "epoch   7: train loss = 1.078439e+00, train acc = 6.983927e-01, test acc = 5.964400e-01\n",
      "epoch   8: train loss = 9.114960e-01, train acc = 7.392402e-01, test acc = 6.222104e-01\n",
      "epoch   9: train loss = 8.138952e-01, train acc = 7.645457e-01, test acc = 6.392136e-01\n",
      "epoch  10: train loss = 7.174484e-01, train acc = 7.943677e-01, test acc = 6.602019e-01\n",
      "---------------------------------------- fold 2 ----------------------------------------\n",
      "epoch   1: train loss = 9.044368e+00, train acc = 2.510627e-01, test acc = 2.199787e-01\n",
      "epoch   2: train loss = 4.581534e+00, train acc = 4.066153e-01, test acc = 3.501594e-01\n",
      "epoch   3: train loss = 2.841669e+00, train acc = 5.002657e-01, test acc = 4.221573e-01\n",
      "epoch   4: train loss = 1.962673e+00, train acc = 5.721971e-01, test acc = 4.808714e-01\n",
      "epoch   5: train loss = 1.532476e+00, train acc = 6.152365e-01, test acc = 5.193943e-01\n",
      "epoch   6: train loss = 1.230211e+00, train acc = 6.623937e-01, test acc = 5.491498e-01\n",
      "epoch   7: train loss = 1.042410e+00, train acc = 7.006509e-01, test acc = 5.820935e-01\n",
      "epoch   8: train loss = 9.290778e-01, train acc = 7.305393e-01, test acc = 6.036132e-01\n",
      "epoch   9: train loss = 8.080535e-01, train acc = 7.636158e-01, test acc = 6.259298e-01\n",
      "epoch  10: train loss = 7.139536e-01, train acc = 7.927737e-01, test acc = 6.482465e-01\n",
      "---------------------------------------- fold 3 ----------------------------------------\n",
      "epoch   1: train loss = 8.855385e+00, train acc = 2.442216e-01, test acc = 2.197131e-01\n",
      "epoch   2: train loss = 4.496960e+00, train acc = 3.890808e-01, test acc = 3.437832e-01\n",
      "epoch   3: train loss = 2.747382e+00, train acc = 4.926939e-01, test acc = 4.256110e-01\n",
      "epoch   4: train loss = 1.930524e+00, train acc = 5.656217e-01, test acc = 4.848565e-01\n",
      "epoch   5: train loss = 1.496872e+00, train acc = 6.147715e-01, test acc = 5.255048e-01\n",
      "epoch   6: train loss = 1.266327e+00, train acc = 6.609325e-01, test acc = 5.589798e-01\n",
      "epoch   7: train loss = 1.028929e+00, train acc = 7.035069e-01, test acc = 5.945802e-01\n",
      "epoch   8: train loss = 9.537290e-01, train acc = 7.272848e-01, test acc = 6.150372e-01\n",
      "epoch   9: train loss = 7.848276e-01, train acc = 7.723167e-01, test acc = 6.437300e-01\n",
      "epoch  10: train loss = 6.884639e-01, train acc = 7.988178e-01, test acc = 6.671094e-01\n",
      "---------------------------------------- fold 4 ----------------------------------------\n",
      "epoch   1: train loss = 9.544379e+00, train acc = 2.249601e-01, test acc = 2.043039e-01\n",
      "epoch   2: train loss = 4.777925e+00, train acc = 3.744687e-01, test acc = 3.459086e-01\n",
      "epoch   3: train loss = 2.861554e+00, train acc = 4.834617e-01, test acc = 4.367694e-01\n",
      "epoch   4: train loss = 2.013131e+00, train acc = 5.522715e-01, test acc = 4.843252e-01\n",
      "epoch   5: train loss = 1.530716e+00, train acc = 6.137088e-01, test acc = 5.268332e-01\n",
      "epoch   6: train loss = 1.301278e+00, train acc = 6.457890e-01, test acc = 5.632306e-01\n",
      "epoch   7: train loss = 1.090297e+00, train acc = 6.900239e-01, test acc = 5.935175e-01\n",
      "epoch   8: train loss = 9.463950e-01, train acc = 7.254915e-01, test acc = 6.222104e-01\n",
      "epoch   9: train loss = 8.470359e-01, train acc = 7.512619e-01, test acc = 6.493092e-01\n",
      "epoch  10: train loss = 7.500014e-01, train acc = 7.838071e-01, test acc = 6.636557e-01\n",
      "---------------------------------------- fold 5 ----------------------------------------\n",
      "epoch   1: train loss = 1.013587e+01, train acc = 2.223698e-01, test acc = 2.037726e-01\n",
      "epoch   2: train loss = 5.009482e+00, train acc = 3.811769e-01, test acc = 3.408608e-01\n",
      "epoch   3: train loss = 3.065298e+00, train acc = 4.822662e-01, test acc = 4.311902e-01\n",
      "epoch   4: train loss = 2.102779e+00, train acc = 5.617030e-01, test acc = 4.843252e-01\n",
      "epoch   5: train loss = 1.603680e+00, train acc = 6.137753e-01, test acc = 5.278959e-01\n",
      "epoch   6: train loss = 1.298173e+00, train acc = 6.558847e-01, test acc = 5.605739e-01\n",
      "epoch   7: train loss = 1.090392e+00, train acc = 6.966658e-01, test acc = 5.924549e-01\n",
      "epoch   8: train loss = 9.330314e-01, train acc = 7.338603e-01, test acc = 6.158342e-01\n",
      "epoch   9: train loss = 8.617579e-01, train acc = 7.561769e-01, test acc = 6.373539e-01\n",
      "epoch  10: train loss = 8.332107e-01, train acc = 7.612911e-01, test acc = 6.477152e-01\n",
      "--------------------------------- Summary: average test accuracy, std. ---------------------------------\n",
      "0.657385754585 0.00798545766717\n",
      "!(366)/usr/local/lib/python2.7/dist-packages/sklearn/cross_validation.py:44: DeprecationWarning: This module was deprecated in version 0.18 in favor of the model_selection module into which all the refactored classes and functions are moved. Also note that the interface of the new CV iterators are different from that of this module. This module will be removed in 0.20.\n",
      "!(62)  \"This module will be removed in 0.20.\", DeprecationWarning)\n",
      "!(35)Traceback (most recent call last):\n",
      "!(71)  File \"/usr/lib/python2.7/runpy.py\", line 151, in _run_module_as_main\n",
      "!(66)    mod_name, loader, code, fname = _get_module_details(mod_name)\n",
      "!(71)  File \"/usr/lib/python2.7/runpy.py\", line 101, in _get_module_details\n",
      "!(34)    loader = get_loader(mod_name)\n",
      "!(64)  File \"/usr/lib/python2.7/pkgutil.py\", line 464, in get_loader\n",
      "!(33)    return find_loader(fullname)\n",
      "!(65)  File \"/usr/lib/python2.7/pkgutil.py\", line 474, in find_loader\n",
      "!(46)    for importer in iter_importers(fullname):\n",
      "!(68)  File \"/usr/lib/python2.7/pkgutil.py\", line 430, in iter_importers\n",
      "!(20)    __import__(pkg)\n",
      "!(54)  File \"bowcnn/cv_baseline.py\", line 212, in <module>\n",
      "!(25)    if args.json_result:\n",
      "!(66)AttributeError: 'Namespace' object has no attribute 'json_result'\n"
     ]
    }
   ],
   "source": [
    "pipe = subprocess.Popen(cmd, shell=True, \n",
    "                        stdout=PIPE, stderr=PIPE, close_fds=True)\n",
    "\n",
    "for line in iter(pipe.stdout.readline, b''):\n",
    "    print line,\n",
    "for line in iter(pipe.stderr.readline, b''):\n",
    "    if len(line)>0:\n",
    "        print \"!(\"+str(len(line))+\")\"+line,"
   ]
  },
  {
   "cell_type": "code",
   "execution_count": 83,
   "metadata": {
    "collapsed": false
   },
   "outputs": [
    {
     "name": "stdout",
     "output_type": "stream",
     "text": [
      "[u'python', u'-m', u'bowcnn.cv_baseline', '--model', 'mlp3l', '--dataset', 'TwentyNg', '--nfolds', '2', '--minibatchsize', '50', '--maxiter', '3']\n"
     ]
    }
   ],
   "source": [
    "pars = {\n",
    "    'maxiter':3,\n",
    "    'model':\"mlp3l\",\n",
    "    'dataset':\"TwentyNg\",\n",
    "    'minibatchsize':50,\n",
    "    'nfolds':2\n",
    "}\n",
    "cmd = [\"python\",\"-m\",\"bowcnn.cv_baseline\"]\n",
    "for key in pars:\n",
    "    cmd.append(str(\"--\"+key))\n",
    "    cmd.append(str(pars[key]))\n",
    "print cmd"
   ]
  },
  {
   "cell_type": "code",
   "execution_count": 85,
   "metadata": {
    "collapsed": false
   },
   "outputs": [
    {
     "name": "stdout",
     "output_type": "stream",
     "text": [
      "{'normalizecount': False, 'jsonresult': None, 'dropoutrate': 0.3, 'nemb': 50, 'decay': 0, 'nfolds': 2, 'minibatchsize': 50, 'dataset': 'TwentyNg', 'tfidf': False, 'output': None, 'randomstate': 0, 'maxiter': 3, 'gpu': -1, 'model': 'mlp3l', 'optimizer': 'adam'}\n",
      "---------------------------------------- fold 1 ----------------------------------------\n",
      "epoch   1: train loss = 6.705119e-01, train acc = 9.281615e-01, test acc = 8.496280e-01\n",
      "epoch   2: train loss = 2.500722e-01, train acc = 9.726886e-01, test acc = 8.802338e-01\n",
      "epoch   3: train loss = 1.306831e-01, train acc = 9.874601e-01, test acc = 8.817216e-01\n",
      "---------------------------------------- fold 2 ----------------------------------------\n",
      "epoch   1: train loss = 7.022234e-01, train acc = 9.283741e-01, test acc = 8.564293e-01\n",
      "epoch   2: train loss = 2.534640e-01, train acc = 9.752391e-01, test acc = 8.820404e-01\n",
      "epoch   3: train loss = 1.300064e-01, train acc = 9.870350e-01, test acc = 8.857598e-01\n",
      "--------------------------------- Summary: average test accuracy, std. ---------------------------------\n",
      "0.883740693331 0.00201913714409\n",
      "!(366)/usr/local/lib/python2.7/dist-packages/sklearn/cross_validation.py:44: DeprecationWarning: This module was deprecated in version 0.18 in favor of the model_selection module into which all the refactored classes and functions are moved. Also note that the interface of the new CV iterators are different from that of this module. This module will be removed in 0.20.\n",
      "!(62)  \"This module will be removed in 0.20.\", DeprecationWarning)\n"
     ]
    }
   ],
   "source": [
    "pipe = subprocess.Popen(cmd, stdout=PIPE, stderr=PIPE, close_fds=True)\n",
    "\n",
    "for line in iter(pipe.stdout.readline, b''):\n",
    "    print line,\n",
    "for line in iter(pipe.stderr.readline, b''):\n",
    "    if len(line)>0:\n",
    "        print \"!(\"+str(len(line))+\")\"+line,"
   ]
  },
  {
   "cell_type": "code",
   "execution_count": null,
   "metadata": {
    "collapsed": true
   },
   "outputs": [],
   "source": []
  }
 ],
 "metadata": {
  "kernelspec": {
   "display_name": "Python 2",
   "language": "python",
   "name": "python2"
  },
  "language_info": {
   "codemirror_mode": {
    "name": "ipython",
    "version": 2
   },
   "file_extension": ".py",
   "mimetype": "text/x-python",
   "name": "python",
   "nbconvert_exporter": "python",
   "pygments_lexer": "ipython2",
   "version": "2.7.9"
  }
 },
 "nbformat": 4,
 "nbformat_minor": 2
}
