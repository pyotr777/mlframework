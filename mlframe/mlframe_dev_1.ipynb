{
 "cells": [
  {
   "cell_type": "markdown",
   "metadata": {},
   "source": [
    "### Use this notebook for developing mlframe prototype 2"
   ]
  },
  {
   "cell_type": "code",
   "execution_count": 1,
   "metadata": {},
   "outputs": [
    {
     "name": "stdout",
     "output_type": "stream",
     "text": [
      "Scripts location: /Users/peterbryzgalov/work/ML/mlframework/mlframe/commands/../scripts\n",
      "test_nvidia_ubuntu \t\tGet versions of installed Nvidia drivers and CUDA\n",
      "test_docker_ubuntu \t\tGet versions of Docker and nvidia-docker\n",
      "install_docker_ubuntu \t\tInstall Docker on Ubuntu\n",
      "install_nvdocker_ubuntu \t\tInstall nvidia-docker on Ubuntu\n",
      "test \t\tTest script with sleep\n"
     ]
    }
   ],
   "source": [
    "from commands import commands\n",
    "commands.lscom()"
   ]
  },
  {
   "cell_type": "code",
   "execution_count": 2,
   "metadata": {},
   "outputs": [
    {
     "name": "stdout",
     "output_type": "stream",
     "text": [
      "Command file is /Users/peterbryzgalov/work/ML/mlframework/mlframe/commands/../scripts/test.sh\n"
     ]
    }
   ],
   "source": [
    "commands.remote(\"DLbox\",\"test\")"
   ]
  },
  {
   "cell_type": "code",
   "execution_count": 4,
   "metadata": {},
   "outputs": [],
   "source": [
    "import multiprocessing\n",
    "import subprocess\n",
    "import os"
   ]
  },
  {
   "cell_type": "code",
   "execution_count": 120,
   "metadata": {},
   "outputs": [],
   "source": [
    "# Class for executing commands in background processes.\n",
    "# command_and_args must be a string with the command and arguments separated with spaces.\n",
    "# It can be used for executing remote processes in background. For that purpose exec_remote.sh should be used.\n",
    "class BashExecutor(multiprocessing.Process):\n",
    "    debug = False\n",
    "    def __init__(self, command_and_args, debug=False):\n",
    "        super(BashExecutor,self).__init__()\n",
    "        self.debug = debug\n",
    "        if self.debug: print \"args:\",args\n",
    "        arg_list = command_and_args.split()\n",
    "        self.command=arg_list\n",
    "        if self.debug: print \"command=\",self.command\n",
    "        #self.daemon = True\n",
    "        \n",
    "    def __call__(self):\n",
    "        if self.debug: print \"Call to __call__\"\n",
    "        self.run()\n",
    "        \n",
    "    def run(self):\n",
    "        if self.debug: \n",
    "            print \"In {}\".format(self.name)\n",
    "            print \"Calling\",self.command\n",
    "\n",
    "        proc = subprocess.Popen(self.command, stdout=subprocess.PIPE, stderr=subprocess.STDOUT)\n",
    "        self.__handleOutput__(proc)\n",
    "        if self.debug:\n",
    "            print \"Exiting\",multiprocessing.current_process().name\n",
    "            print 'In %s' % self.name\n",
    "        return\n",
    "\n",
    "    def __handleOutput__(self,proc):\n",
    "        for line in iter(proc.stdout.readline, b''):\n",
    "            print line,"
   ]
  },
  {
   "cell_type": "code",
   "execution_count": 131,
   "metadata": {},
   "outputs": [],
   "source": [
    "# Execute command on remote (or local) host in background, using exec_remote.sh and BashExecutor instance.\n",
    "# Command can be any command or executable file name.\n",
    "# Arguments must be in a string separated with spaces.\n",
    "def RemoteExec(hosts, command, args=\"\", debug=False):\n",
    "    package_directory = os.path.dirname(os.getcwd())\n",
    "    scripts_location=os.path.realpath(os.path.join(package_directory,\"mlframe\",\"scripts\"))\n",
    "    exec_remote_script=\"exec_remote.sh\"\n",
    "    script_path = os.path.join(scripts_location,exec_remote_script)\n",
    "    \n",
    "    command_script_path = os.path.join(scripts_location,command)\n",
    "    if debug: print \"Test if script file exists in RemoteExec\",command_script_path\n",
    "    if os.path.isfile(command_script_path):\n",
    "        command = command_script_path\n",
    "    \n",
    "          \n",
    "    jobs = []\n",
    "    if type(hosts) is str:\n",
    "        hosts = [hosts]\n",
    "    for host in hosts:\n",
    "        print host\n",
    "        if host == \"\" or host == \"localhost\" or host == \"127.0.07\":\n",
    "            args = \" \".join([command,args])\n",
    "        else:\n",
    "            args = \" \".join([script_path, host, command, args])\n",
    "        if debug: print \"args\",args\n",
    "        d = BashExecutor(args, debug=debug)\n",
    "        jobs.append(d)        \n",
    "        d.start()\n",
    "        \n",
    "    #for d in jobs:\n",
    "    #    d.join()\n",
    "    \n",
    "    print \"finished\""
   ]
  },
  {
   "cell_type": "code",
   "execution_count": 132,
   "metadata": {},
   "outputs": [
    {
     "name": "stdout",
     "output_type": "stream",
     "text": [
      "mouse\n",
      "finished\n",
      "localhost\n",
      "finished\n",
      "Wed Mar  7 12:21:04 JST 2018\n",
      "REMOTE_ADDRESS=mouse\n",
      "SCRIPT_FILE_PATH=/Users/peterbryzgalov/work/ML/mlframework/mlframe/scripts/test.sh\n",
      "PWD: /Users/peterbryzgalov/work/ML/mlframework/mlframe\n",
      "REMOTE_COMMAND=/Users/peterbryzgalov/work/ML/mlframework/mlframe/scripts/test.sh\n",
      "exec_remote.sh arguments: -a -b\n",
      "Run /Users/peterbryzgalov/work/ML/mlframework/mlframe/scripts/test.sh -a -b on mouse\n",
      "Warning: Permanently added 'mouse.local,fe80::e27:b843:c6d6:6e6f%en1' (ECDSA) to the list of known hosts.\n",
      "Warning: Permanently added 'mouse.local,fe80::e27:b843:c6d6:6e6f%en1' (ECDSA) to the list of known hosts.\n",
      "Running test command on mouse\n",
      "mouse-a:1\n",
      "mouse-a:2\n",
      "mouse-a:3\n",
      "mouse-a:4\n",
      "mouse-a:5\n",
      "mouse-a:6\n",
      "Exit code 0\n"
     ]
    }
   ],
   "source": [
    "# Нужно выделять имя скрипта в отдельный аргумент, чтобы можно было отличить его от других команд\n",
    "RemoteExec(\"mouse\",\"test.sh\",\" -a -b\")\n",
    "RemoteExec(\"localhost\",\"date\")"
   ]
  },
  {
   "cell_type": "code",
   "execution_count": null,
   "metadata": {},
   "outputs": [],
   "source": []
  }
 ],
 "metadata": {
  "kernelspec": {
   "display_name": "Python 2",
   "language": "python",
   "name": "python2"
  },
  "language_info": {
   "codemirror_mode": {
    "name": "ipython",
    "version": 2
   },
   "file_extension": ".py",
   "mimetype": "text/x-python",
   "name": "python",
   "nbconvert_exporter": "python",
   "pygments_lexer": "ipython2",
   "version": "2.7.11"
  }
 },
 "nbformat": 4,
 "nbformat_minor": 2
}
