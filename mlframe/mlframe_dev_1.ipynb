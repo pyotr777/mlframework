{
 "cells": [
  {
   "cell_type": "markdown",
   "metadata": {},
   "source": [
    "### Use this notebook for developing mlframe prototype 2"
   ]
  },
  {
   "cell_type": "code",
   "execution_count": 1,
   "metadata": {},
   "outputs": [],
   "source": [
    "import multiprocessing\n",
    "from Queue import Queue, Empty\n",
    "import subprocess\n",
    "import os\n",
    "import time\n",
    "import re\n",
    "import sys"
   ]
  },
  {
   "cell_type": "code",
   "execution_count": 23,
   "metadata": {},
   "outputs": [],
   "source": [
    "# Class for executing commands in background processes.\n",
    "# command_and_args can be a list or a string with the command and arguments separated with spaces.\n",
    "# It can be used for executing remote processes in background. For that purpose exec_remote.sh should be used.\n",
    "# Usage sample: \n",
    "# d = BashExecutor(command,hostname=hostname)\n",
    "# d.start()\n",
    "# exec_remote.sh must output subprocess exit code in the form:\n",
    "# exitcode=N\n",
    "# , where N is the number.\n",
    "class BashExecutor(multiprocessing.Process):\n",
    "    \n",
    "    def __init__(self, command_and_args, debug=False):\n",
    "        super(BashExecutor,self).__init__()\n",
    "        self.debug = debug\n",
    "        if self.debug: print \"command args:\",command_and_args\n",
    "        if type(command_and_args) is str:\n",
    "            self.command = command_and_args.split(\" \")\n",
    "        else:\n",
    "            self.command=command_and_args\n",
    "        self.exitcode_pat = re.compile(\"^exitcode=(\\d+)\")\n",
    "        manager = multiprocessing.Manager()\n",
    "        d = manager.dict()\n",
    "        d[\"stdout\"] = \"\"\n",
    "        d[\"exitcode\"] = \"\"\n",
    "        self.d = d\n",
    "        \n",
    "        \n",
    "    # Poll exit code of self.proc and store it if not None.\n",
    "    def poll(self):\n",
    "        exitcode = self.proc.poll()\n",
    "        if exitcode is not None:\n",
    "            self.setExitCode(exitcode)\n",
    "        return exitcode\n",
    "    \n",
    "    \n",
    "    # Set given exit code to Command class object\n",
    "    def setExitCode(self, ec):\n",
    "        if self.d[\"exitcode\"] == \"\":\n",
    "            if self.debug: print \"setting exit code to\",ec        \n",
    "            self.d[\"exitcode\"] = ec\n",
    "            if False: #isinstance(self.command, Command): \n",
    "                if self.command.exitcode is None:\n",
    "                    self.command.exitcode = ec\n",
    "                if self.debug:\n",
    "                    print \"Set exit code to\",ec\n",
    "                    if ec is not None:\n",
    "                        printObj(self.command)\n",
    "\n",
    "    # New version without multiprocessing \n",
    "    def run(self):\n",
    "        if self.debug: \n",
    "            print \"In {}. Calling {}\".format(self.name,self.command)\n",
    "            \n",
    "        proc = subprocess.Popen(self.command, stdout=subprocess.PIPE, stderr=subprocess.STDOUT, bufsize=1, shell=False)\n",
    "        self.proc = proc\n",
    "        if self.debug: print self.name, \"process started\"\n",
    "        std = \"\"\n",
    "        for std in iter(proc.stdout.readline, b''):\n",
    "            self.d[\"stdout_empty\"]=False\n",
    "            if std is not None and len(std) > 0:\n",
    "                self.d[\"stdout\"] += std\n",
    "                print std,\n",
    "            else:\n",
    "                self.d[\"stdout_empty\"]=True\n",
    "            \n",
    "            time.sleep(.5)\n",
    "        print \"Exit code:\",self.poll()\n",
    "            \n",
    "\n",
    "    def getExitcode(self):\n",
    "        return self.d[\"exitcode\"]"
   ]
  },
  {
   "cell_type": "code",
   "execution_count": 24,
   "metadata": {
    "scrolled": false
   },
   "outputs": [
    {
     "name": "stdout",
     "output_type": "stream",
     "text": [
      "command args: /Users/peterbryzgalov/work/ML/mlframework/mlframe/scripts/test.sh\n",
      "In BashExecutor-17. Calling ['/Users/peterbryzgalov/work/ML/mlframework/mlframe/scripts/test.sh']\n",
      "BashExecutor-17 process started\n",
      "Running test command on peters-imac.local\n",
      "peters-imac.local():1\n",
      "output 1\n",
      "peters-imac.local err1\n",
      "peters-imac.local():2\n",
      "output 2\n",
      "peters-imac.local err2\n",
      "peters-imac.local():3\n",
      "output 3\n",
      "peters-imac.local err3\n",
      "peters-imac.local():4\n",
      "output 4\n",
      "peters-imac.local err4\n",
      "peters-imac.local():5\n",
      "output 5\n",
      "peters-imac.local err5\n",
      "Exit code: setting exit code to 125\n",
      "125\n"
     ]
    }
   ],
   "source": [
    "d1 = BashExecutor(\"/Users/peterbryzgalov/work/ML/mlframework/mlframe/scripts/test.sh\",debug=True)\n",
    "d1.start()\n",
    "#d2 = RemoteExec(\"mouse\",\"test_nvidia_ubuntu.sh\", debug=True)\n",
    "#RemoteExec(\"DL\",\"test_nvidia_ubuntu.sh\", debug=False)"
   ]
  },
  {
   "cell_type": "code",
   "execution_count": 25,
   "metadata": {},
   "outputs": [
    {
     "name": "stdout",
     "output_type": "stream",
     "text": [
      "125\n"
     ]
    }
   ],
   "source": [
    "print d1.getExitcode()"
   ]
  },
  {
   "cell_type": "code",
   "execution_count": 26,
   "metadata": {},
   "outputs": [
    {
     "name": "stdout",
     "output_type": "stream",
     "text": [
      "Running test command on peters-imac.local\n",
      "peters-imac.local():1\n",
      "output 1\n",
      "peters-imac.local err1\n",
      "peters-imac.local():2\n",
      "output 2\n",
      "peters-imac.local err2\n",
      "peters-imac.local():3\n",
      "output 3\n",
      "peters-imac.local err3\n",
      "peters-imac.local():4\n",
      "output 4\n",
      "peters-imac.local err4\n",
      "peters-imac.local():5\n",
      "output 5\n",
      "peters-imac.local err5\n",
      "\n"
     ]
    }
   ],
   "source": [
    "print d1.d[\"stdout\"]"
   ]
  },
  {
   "cell_type": "code",
   "execution_count": null,
   "metadata": {},
   "outputs": [],
   "source": []
  }
 ],
 "metadata": {
  "kernelspec": {
   "display_name": "Python 2",
   "language": "python",
   "name": "python2"
  },
  "language_info": {
   "codemirror_mode": {
    "name": "ipython",
    "version": 2
   },
   "file_extension": ".py",
   "mimetype": "text/x-python",
   "name": "python",
   "nbconvert_exporter": "python",
   "pygments_lexer": "ipython2",
   "version": "2.7.11"
  }
 },
 "nbformat": 4,
 "nbformat_minor": 2
}
