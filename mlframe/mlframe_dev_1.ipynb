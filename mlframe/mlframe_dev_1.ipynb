{
 "cells": [
  {
   "cell_type": "markdown",
   "metadata": {},
   "source": [
    "### Use this notebook for developing mlframe prototype 2"
   ]
  },
  {
   "cell_type": "code",
   "execution_count": 1,
   "metadata": {},
   "outputs": [
    {
     "name": "stdout",
     "output_type": "stream",
     "text": [
      "Scripts location: /Users/peterbryzgalov/work/ML/mlframework/mlframe/commands/../scripts\n",
      "execremote \t\tExecute command on remote machine\n",
      "test_nvidia_ubuntu \t\tGet versions of installed Nvidia drivers and CUDA\n",
      "test_docker_ubuntu \t\tGet versions of Docker and nvidia-docker\n",
      "install_docker_ubuntu \t\tInstall Docker on Ubuntu\n",
      "install_nvdocker_ubuntu \t\tInstall nvidia-docker on Ubuntu\n",
      "test \t\tTest script with sleep\n"
     ]
    }
   ],
   "source": [
    "from commands import commands\n",
    "commands.lscom()"
   ]
  },
  {
   "cell_type": "code",
   "execution_count": 2,
   "metadata": {},
   "outputs": [
    {
     "name": "stdout",
     "output_type": "stream",
     "text": [
      "Command file name is /Users/peterbryzgalov/work/ML/mlframework/mlframe/commands/../scripts/test.sh\n"
     ]
    }
   ],
   "source": [
    "commands.remote(\"DLbox\",\"test\")"
   ]
  },
  {
   "cell_type": "markdown",
   "metadata": {},
   "source": []
  },
  {
   "cell_type": "code",
   "execution_count": 5,
   "metadata": {},
   "outputs": [
    {
     "name": "stdout",
     "output_type": "stream",
     "text": [
      "Calling exec_remote.sh ('DLbox', 'test.sh')\n",
      "REMOTE_ADDRESS=DLbox\n",
      "SCRIPT_FILE_PATH=./test.sh\n",
      "PWD: /Users/peterbryzgalov/work/ML/mlframework/mlframe/scripts\n",
      "REMOTE_COMMAND=test.sh\n",
      "exec_remote.sh arguments: \n",
      "Run ./test.sh  on DLbox\n",
      "Warning: Permanently added '192.168.83.200' (ECDSA) to the list of known hosts.\n",
      "Warning: Permanently added '192.168.83.200' (ECDSA) to the list of known hosts.\n",
      "Running test command on dl-box\n",
      "dl-box:1\n",
      "dl-box:2\n",
      "dl-box:3\n",
      "dl-box:4\n",
      "dl-box:5\n",
      "dl-box:6\n",
      "Exit code 0\n"
     ]
    }
   ],
   "source": [
    "commands.execremote(\"DLbox\",\"test.sh\")"
   ]
  },
  {
   "cell_type": "code",
   "execution_count": 4,
   "metadata": {},
   "outputs": [
    {
     "name": "stdout",
     "output_type": "stream",
     "text": [
      "Calling exec_remote.sh ('DLbox', 'test_nvidia_ubuntu.sh')\n",
      "REMOTE_ADDRESS=DLbox\n",
      "SCRIPT_FILE_PATH=./test_nvidia_ubuntu.sh\n",
      "PWD: /Users/peterbryzgalov/work/ML/mlframework/mlframe/scripts\n",
      "REMOTE_COMMAND=test_nvidia_ubuntu.sh\n",
      "exec_remote.sh arguments: \n",
      "Run ./test_nvidia_ubuntu.sh  on DLbox\n",
      "Warning: Permanently added '192.168.83.200' (ECDSA) to the list of known hosts.\n",
      "Warning: Permanently added '192.168.83.200' (ECDSA) to the list of known hosts.\n",
      "remote_command_.sh arguments: \n",
      "cuDNN not installed\n",
      "NVDRV:384.90,CUDA:8.0,cuDNN:x\n",
      "Exit code 0\n"
     ]
    }
   ],
   "source": [
    "commands.execremote(\"DLbox\",\"test_nvidia_ubuntu.sh\")"
   ]
  },
  {
   "cell_type": "code",
   "execution_count": 38,
   "metadata": {},
   "outputs": [],
   "source": [
    "import multiprocessing\n",
    "import subprocess\n",
    "import os"
   ]
  },
  {
   "cell_type": "code",
   "execution_count": 48,
   "metadata": {},
   "outputs": [],
   "source": [
    "class BashExecutor(multiprocessing.Process):\n",
    "    debug = True\n",
    "    def __init__(self,command,*args):\n",
    "        self.command=command\n",
    "        self.args=args\n",
    "        #self.daemon = True\n",
    "        \n",
    "    def run(self):\n",
    "        print \"In {}\".format(self.name)\n",
    "        if self.debug:\n",
    "            print \"Calling\",command,args\n",
    "\n",
    "        proc = subprocess.Popen(self.command, stdout=subprocess.PIPE, stderr=subprocess.STDOUT)\n",
    "        self.__handleOutput__(proc)\n",
    "        print \"Exiting\",multiprocessing.current_process().name\n",
    "\n",
    "    def __handleOutput__(self,proc):\n",
    "        for line in iter(proc.stdout.readline, b''):\n",
    "            print line,"
   ]
  },
  {
   "cell_type": "code",
   "execution_count": 49,
   "metadata": {},
   "outputs": [],
   "source": [
    "def RemoteExec(hosts,command,*args):\n",
    "    package_directory = os.path.dirname(os.getcwd())\n",
    "    scripts_location=os.path.realpath(os.path.join(package_directory,\"..\",\"scripts\"))\n",
    "    exec_remote_script=\"exec_remote.sh\"    \n",
    "    if os.path.isfile(scripts_location):\n",
    "        exe_command=[scripts_location]\n",
    "    else:\n",
    "        exe_command=[command]\n",
    "          \n",
    "    procs = []\n",
    "    if type(hosts) is str:\n",
    "        hosts = [hosts]\n",
    "    for host in hosts:\n",
    "        print host\n",
    "        d = BashExecutor(exe_command, args)\n",
    "        procs.append(d)\n",
    "        \n",
    "        d.start()\n",
    "        d.join()\n",
    "    \n",
    "    print \"Exec_command\",exe_command"
   ]
  },
  {
   "cell_type": "code",
   "execution_count": 50,
   "metadata": {},
   "outputs": [
    {
     "name": "stdout",
     "output_type": "stream",
     "text": [
      "mouse\n"
     ]
    },
    {
     "ename": "AttributeError",
     "evalue": "'BashExecutor' object has no attribute '_popen'",
     "output_type": "error",
     "traceback": [
      "\u001b[0;31m---------------------------------------------------------------------------\u001b[0m",
      "\u001b[0;31mAttributeError\u001b[0m                            Traceback (most recent call last)",
      "\u001b[0;32m<ipython-input-50-15c2b4193f69>\u001b[0m in \u001b[0;36m<module>\u001b[0;34m()\u001b[0m\n\u001b[0;32m----> 1\u001b[0;31m \u001b[0mRemoteExec\u001b[0m\u001b[0;34m(\u001b[0m\u001b[0;34m\"mouse\"\u001b[0m\u001b[0;34m,\u001b[0m\u001b[0;34m\"test.sh -a -b\"\u001b[0m\u001b[0;34m)\u001b[0m\u001b[0;34m\u001b[0m\u001b[0m\n\u001b[0m",
      "\u001b[0;32m<ipython-input-49-81c3de80d1d8>\u001b[0m in \u001b[0;36mRemoteExec\u001b[0;34m(hosts, command, *args)\u001b[0m\n\u001b[1;32m     16\u001b[0m         \u001b[0mprocs\u001b[0m\u001b[0;34m.\u001b[0m\u001b[0mappend\u001b[0m\u001b[0;34m(\u001b[0m\u001b[0md\u001b[0m\u001b[0;34m)\u001b[0m\u001b[0;34m\u001b[0m\u001b[0m\n\u001b[1;32m     17\u001b[0m \u001b[0;34m\u001b[0m\u001b[0m\n\u001b[0;32m---> 18\u001b[0;31m         \u001b[0md\u001b[0m\u001b[0;34m.\u001b[0m\u001b[0mstart\u001b[0m\u001b[0;34m(\u001b[0m\u001b[0;34m)\u001b[0m\u001b[0;34m\u001b[0m\u001b[0m\n\u001b[0m\u001b[1;32m     19\u001b[0m         \u001b[0md\u001b[0m\u001b[0;34m.\u001b[0m\u001b[0mjoin\u001b[0m\u001b[0;34m(\u001b[0m\u001b[0;34m)\u001b[0m\u001b[0;34m\u001b[0m\u001b[0m\n\u001b[1;32m     20\u001b[0m \u001b[0;34m\u001b[0m\u001b[0m\n",
      "\u001b[0;32m/usr/local/Cellar/python/2.7.11/Frameworks/Python.framework/Versions/2.7/lib/python2.7/multiprocessing/process.pyc\u001b[0m in \u001b[0;36mstart\u001b[0;34m(self)\u001b[0m\n\u001b[1;32m    118\u001b[0m         \u001b[0mStart\u001b[0m \u001b[0mchild\u001b[0m \u001b[0mprocess\u001b[0m\u001b[0;34m\u001b[0m\u001b[0m\n\u001b[1;32m    119\u001b[0m         '''\n\u001b[0;32m--> 120\u001b[0;31m         \u001b[0;32massert\u001b[0m \u001b[0mself\u001b[0m\u001b[0;34m.\u001b[0m\u001b[0m_popen\u001b[0m \u001b[0;32mis\u001b[0m \u001b[0mNone\u001b[0m\u001b[0;34m,\u001b[0m \u001b[0;34m'cannot start a process twice'\u001b[0m\u001b[0;34m\u001b[0m\u001b[0m\n\u001b[0m\u001b[1;32m    121\u001b[0m         \u001b[0;32massert\u001b[0m \u001b[0mself\u001b[0m\u001b[0;34m.\u001b[0m\u001b[0m_parent_pid\u001b[0m \u001b[0;34m==\u001b[0m \u001b[0mos\u001b[0m\u001b[0;34m.\u001b[0m\u001b[0mgetpid\u001b[0m\u001b[0;34m(\u001b[0m\u001b[0;34m)\u001b[0m\u001b[0;34m,\u001b[0m\u001b[0;31m \u001b[0m\u001b[0;31m\\\u001b[0m\u001b[0;34m\u001b[0m\u001b[0m\n\u001b[1;32m    122\u001b[0m                \u001b[0;34m'can only start a process object created by current process'\u001b[0m\u001b[0;34m\u001b[0m\u001b[0m\n",
      "\u001b[0;31mAttributeError\u001b[0m: 'BashExecutor' object has no attribute '_popen'"
     ]
    }
   ],
   "source": [
    "RemoteExec(\"mouse\",\"test.sh -a -b\")"
   ]
  },
  {
   "cell_type": "code",
   "execution_count": null,
   "metadata": {},
   "outputs": [],
   "source": []
  }
 ],
 "metadata": {
  "kernelspec": {
   "display_name": "Python 2",
   "language": "python",
   "name": "python2"
  },
  "language_info": {
   "codemirror_mode": {
    "name": "ipython",
    "version": 2
   },
   "file_extension": ".py",
   "mimetype": "text/x-python",
   "name": "python",
   "nbconvert_exporter": "python",
   "pygments_lexer": "ipython2",
   "version": "2.7.11"
  }
 },
 "nbformat": 4,
 "nbformat_minor": 2
}
