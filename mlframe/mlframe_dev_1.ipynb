{
 "cells": [
  {
   "cell_type": "markdown",
   "metadata": {},
   "source": [
    "### Use this notebook for developing mlframe prototype 2"
   ]
  },
  {
   "cell_type": "code",
   "execution_count": 1,
   "metadata": {},
   "outputs": [
    {
     "name": "stdout",
     "output_type": "stream",
     "text": [
      "Scripts location: /Users/peterbryzgalov/work/ML/mlframework/mlframe/commands/../scripts\n",
      "execremote \t\tExecute command on remote machine\n",
      "test_nvidia_ubuntu \t\tGet versions of installed Nvidia drivers and CUDA\n",
      "test_docker_ubuntu \t\tGet versions of Docker and nvidia-docker\n",
      "install_docker_ubuntu \t\tInstall Docker on Ubuntu\n",
      "install_nvdocker_ubuntu \t\tInstall nvidia-docker on Ubuntu\n",
      "test \t\tTest script with sleep\n"
     ]
    }
   ],
   "source": [
    "from commands import commands\n",
    "commands.lscom()"
   ]
  },
  {
   "cell_type": "code",
   "execution_count": 2,
   "metadata": {},
   "outputs": [
    {
     "name": "stdout",
     "output_type": "stream",
     "text": [
      "Command /Users/peterbryzgalov/work/ML/mlframework/mlframe/commands/../scripts/test.sh\n"
     ]
    }
   ],
   "source": [
    "commands.remote(\"mouse\",\"test\")"
   ]
  },
  {
   "cell_type": "markdown",
   "metadata": {},
   "source": []
  },
  {
   "cell_type": "code",
   "execution_count": null,
   "metadata": {},
   "outputs": [],
   "source": [
    "commands.execremote(\"mouse\",\"test.sh\")"
   ]
  },
  {
   "cell_type": "code",
   "execution_count": null,
   "metadata": {},
   "outputs": [],
   "source": [
    "commands.execremote(\"mouse\",\"test_nvidia_ubuntu\")"
   ]
  },
  {
   "cell_type": "code",
   "execution_count": null,
   "metadata": {},
   "outputs": [],
   "source": [
    "commands.test_nvidia()"
   ]
  },
  {
   "cell_type": "code",
   "execution_count": null,
   "metadata": {},
   "outputs": [],
   "source": []
  }
 ],
 "metadata": {
  "kernelspec": {
   "display_name": "Python 2",
   "language": "python",
   "name": "python2"
  },
  "language_info": {
   "codemirror_mode": {
    "name": "ipython",
    "version": 2
   },
   "file_extension": ".py",
   "mimetype": "text/x-python",
   "name": "python",
   "nbconvert_exporter": "python",
   "pygments_lexer": "ipython2",
   "version": "2.7.11"
  }
 },
 "nbformat": 4,
 "nbformat_minor": 2
}
