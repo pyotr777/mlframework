{
 "cells": [
  {
   "cell_type": "markdown",
   "metadata": {},
   "source": [
    "# Use this notebook for developing mlframe prototype 2\n",
    "\n",
    "## Object-oriented approach. Testing on DL with benchmarks."
   ]
  },
  {
   "cell_type": "code",
   "execution_count": 2,
   "metadata": {},
   "outputs": [],
   "source": [
    "import multiprocessing\n",
    "from Queue import Queue, Empty\n",
    "import subprocess\n",
    "import os\n",
    "import time\n",
    "import re\n",
    "import sys"
   ]
  },
  {
   "cell_type": "code",
   "execution_count": 3,
   "metadata": {},
   "outputs": [],
   "source": [
    "def printObj(obj):\n",
    "    for key,val in obj.__dict__.iteritems():\n",
    "        print key,\"=\",val"
   ]
  },
  {
   "cell_type": "code",
   "execution_count": 4,
   "metadata": {},
   "outputs": [],
   "source": [
    "# Class for executing local and remote commands in background processes.\n",
    "# Command must be in multiprocessing.Manager.dict().\n",
    "# Command must be a string with the command and arguments separated with spaces.\n",
    "# Should be called from BashExecutor class.\n",
    "# Usage sample: \n",
    "# d = BashExecutor(command,hostname=hostname)\n",
    "# d.start()\n",
    "#  command - string representation of the command and arguments.\n",
    "# exec_remote.sh must output subprocess exit code in the form:\n",
    "# exitcode=N\n",
    "# , where N is the number.\n",
    "class BackgroundExecutor(multiprocessing.Process):\n",
    "    \n",
    "    def __init__(self, d = {}, debug=False, hostname=\"\", callback=None, callback_params=None):\n",
    "        super(BackgroundExecutor,self).__init__()\n",
    "        self.debug = debug\n",
    "        self.hostname = hostname\n",
    "        self.exitcode_pat = re.compile(\"^exitcode=(\\d+)\")\n",
    "        self.d = d\n",
    "        self.command = d[\"command\"].split(\" \")\n",
    "        self.callback = callback\n",
    "        self.callback_params = callback_params\n",
    "        if debug:\n",
    "            print \"In \",self.name,\" command='\",self.command,\"'\"\n",
    "            if callback is not None:\n",
    "                print \"Callback:\",callback,callback_params\n",
    "        \n",
    "        \n",
    "    # Poll exit code of self.proc and store it if not None.\n",
    "    def poll(self):\n",
    "        exitcode = self.proc.poll()\n",
    "        if exitcode is not None:\n",
    "            self.setExitCode(exitcode)\n",
    "            if self.callback is not None:\n",
    "                if self.debug: print \"Calling callback\",str(self.callback),str(self.callback_params)\n",
    "                self.callback(self.callback_params)\n",
    "        return exitcode\n",
    "    \n",
    "    # Set given exit code to Command class object.\n",
    "    # Called from poll() method.\n",
    "    def setExitCode(self, ec):\n",
    "#         if self.debug:\n",
    "#             print \"Manager.dict object:\",repr(self.d)\n",
    "#             print type(self.d)\n",
    "#             printObj(self.d)\n",
    "        if self.d[\"exitcode\"] == \"\":\n",
    "            if self.debug: print \"exit code:\",ec,\n",
    "            self.d[\"exitcode\"] = ec                        \n",
    "        \n",
    "            \n",
    "    def run(self):\n",
    "        if self.debug: \n",
    "            print \"In {}. Calling {}\".format(self.name,self.command)\n",
    "            \n",
    "        command = self.command\n",
    "        proc = subprocess.Popen(command, stdout=subprocess.PIPE, stderr=subprocess.STDOUT, bufsize=1, shell=False)\n",
    "        self.proc = proc\n",
    "        if self.debug: print self.name, \"process started\"\n",
    "        std = \"\"\n",
    "        for std in iter(proc.stdout.readline, b''):\n",
    "            if std is not None and len(std) > 0:\n",
    "                self.d[\"stdout\"] = self.d[\"stdout\"] + std\n",
    "                if self.debug:\n",
    "                    self.d[1]=1                    \n",
    "                    assert self.d[1] ==1, \"Cannot set to Manager dictionary\"\n",
    "                print std,\n",
    "            \n",
    "            time.sleep(.5)\n",
    "        self.poll()\n",
    "    \n",
    "    def nameYourself(self):\n",
    "        cp = multiprocessing.current_process()\n",
    "        print \"name\",cp._name\n",
    "        print \"parent pid\",cp._parent_pid\n",
    "        print \"id\",cp._identity\n",
    "    \n",
    "    def getExitcode(self):\n",
    "        return self.d[\"exitcode\"]\n",
    "            "
   ]
  },
  {
   "cell_type": "code",
   "execution_count": 5,
   "metadata": {},
   "outputs": [],
   "source": [
    "# Class for calling BackgroundExecutor with multiprocessing.Manager.dict object,\n",
    "# which stores string representation of the command, and after execution: its ouptput and exit code.\n",
    "class BashExecutor:\n",
    "    def __init__(self, command, debug=False, callback=None, callback_params=None):\n",
    "        manager = multiprocessing.Manager()\n",
    "        self.d = manager.dict()\n",
    "        self.d[\"command\"] = command\n",
    "        if debug:\n",
    "            print \"In BashExecutor:\"\n",
    "            print \"Command set to '\",self.d[\"command\"],\"'\"\n",
    "            print \"command type:\",type(self.d[\"command\"])\n",
    "            print \"Callback:\",callback, callback_params\n",
    "        self.d[\"stdout\"] = \"\"\n",
    "        self.d[\"exitcode\"] = \"\"\n",
    "        self.debug = debug\n",
    "        self.BE = BackgroundExecutor(self.d, self.debug, callback=callback, callback_params=callback_params)\n",
    "        \n",
    "    def start(self):\n",
    "        self.BE.start()\n",
    "        \n",
    "    def getExitcode(self):        \n",
    "        return self.d[\"exitcode\"]\n",
    "    \n",
    "    def getStdout(self):\n",
    "        return self.d[\"stdout\"]\n",
    "    \n",
    "    def getCommand(self):\n",
    "        return self.d[\"command\"]\n",
    "        \n",
    "    def __str__(self):\n",
    "        s = self.d[\"command\"]\n",
    "        if self.d[\"exitcode\"] != \"\":\n",
    "            s += \" (\"+str(self.d[\"exitcode\"])+\")\"            \n",
    "        return s\n",
    "    \n",
    "    def __repr__(self):\n",
    "        s = self.d[\"command\"]\n",
    "        if self.d[\"exitcode\"] != \"\":\n",
    "            s += \" (\"+str(self.d[\"exitcode\"])+\")\"            \n",
    "        return s\n",
    "        "
   ]
  },
  {
   "cell_type": "code",
   "execution_count": 6,
   "metadata": {},
   "outputs": [],
   "source": [
    "# Class for storing host-related data: hostname, access key and username.\n",
    "# Stores commands (instances of Command class) executed on the host.\n",
    "# Has methods for connecting to the host with ssh, connection test, executing commands.\n",
    "class Host(object):\n",
    "    \n",
    "    def __init__(self, hostname, address=\"localhost\", user=\"\", key=\"\", debug=False, ssh_options=\"\", scp_options=\"\"):\n",
    "        self.hostname = hostname\n",
    "        self.address = address\n",
    "        self.user = user\n",
    "        key = key.replace(\"~\",os.environ['HOME'])\n",
    "        self.key = key\n",
    "        self.debug = debug\n",
    "        self.ssh_command = \"ssh\"\n",
    "        self.scp_command = \"scp\"\n",
    "        if key != \"\":\n",
    "            self.ssh_command += \" -i \"+key\n",
    "            self.scp_command += \" -i \"+key\n",
    "        if ssh_options != \"\":\n",
    "            self.ssh_command += \" -o \"+ssh_options\n",
    "        if scp_options != \"\":\n",
    "            self.scp_command += \" -o \"+scp_options\n",
    "\n",
    "        self.host=\"\"\n",
    "        if user != \"\":\n",
    "            self.host += user+\"@\"\n",
    "        self.host += hostname\n",
    "        self.commands = []\n",
    "        if debug:\n",
    "            print \"hostname,address,user,key:\",self.hostname,self.address,self.user,self.key\n",
    "            print \"ssh command:\",self.ssh_command.replace(' ','.'),\"host:\",self.host\n",
    "        \n",
    "        \n",
    "    def ping(self, N=5):        \n",
    "        comm = BashExecutor(\"ping -c \"+str(N)+\" \"+self.address, debug=self.debug)\n",
    "        #print \"Append:\",self.commands.append(comm)\n",
    "        index = len(self.commands)\n",
    "        self.commands.append(comm)\n",
    "        comm.start()        \n",
    "        return index\n",
    "        \n",
    "    \n",
    "    # Execute command on the server\n",
    "    # If command is a script file, copy the file before executing it.\n",
    "    def execute(self,command,ssh_options=\"\"):\n",
    "        # Deside if command is a script name or just a command\n",
    "        package_directory = os.path.dirname(os.getcwd())\n",
    "        scripts_location=os.path.realpath(os.path.join(package_directory,\"mlframe\",\"scripts\"))\n",
    "        command_list = command.split(\" \")\n",
    "        command_file = command_list[0]\n",
    "        command_script_path = os.path.join(scripts_location, command_file)\n",
    "        callback = None\n",
    "        if os.path.isfile(command_script_path):\n",
    "            if self.debug: print \"script file exists:\",command_script_path\n",
    "            # Joined command: execute remote script file and delete it\n",
    "            command = \"./\"+command\n",
    "            if self.copyScriptFile(command_script_path) != 0:\n",
    "                # Error copying script file\n",
    "                return -1\n",
    "            callback = self.removeScriptFile\n",
    "            callback_params = command_file\n",
    "            \n",
    "        if self.debug: print \"Command:\",command\n",
    "        \n",
    "        if ssh_options != \"\":\n",
    "            ssh_options = \" \"+ssh_options\n",
    "        command = self.ssh_command+ssh_options+\" \"+self.host+\" \"+command\n",
    "        \n",
    "        if self.debug:\n",
    "            print \"Executing:\",command.replace(' ','.')\n",
    "            if callback is not None:\n",
    "                print \"Callback:\",callback,callback_params\n",
    "        if callback is not None:\n",
    "            comm = BashExecutor(command, debug=self.debug,callback=callback, callback_params=callback_params)\n",
    "        else:\n",
    "            comm = BashExecutor(command, debug=self.debug)\n",
    "        index = len(self.commands)\n",
    "        self.commands.append(comm)\n",
    "        comm.start()        \n",
    "        return index\n",
    "    \n",
    "    \n",
    "    def removeScriptFile(self, script_file, options=\"\"):\n",
    "        command = self.ssh_command\n",
    "        if options != 0:\n",
    "            command += \" \"+options\n",
    "        command += self.host+\" rm \"+ script_file\n",
    "        if self.debug: print \"Remove command:\",command\n",
    "        proc = subprocess.Popen(command.split(\" \"), stdout=subprocess.PIPE, stderr=subprocess.STDOUT, bufsize=1, shell=False)\n",
    "        std,stderr = proc.communicate()\n",
    "        exitcode = proc.poll()\n",
    "        if exitcode != 0:        \n",
    "            print \"Error deleting\",script_file,\"on\",self.hostname,exitcode\n",
    "            print std\n",
    "            print \"!\",stderr    \n",
    "        return exitcode\n",
    "        \n",
    "    \n",
    "    # Copy script file to the host.\n",
    "    # Called every time before remote script execution.\n",
    "    def copyScriptFile(self, script_file, options=\"\"):\n",
    "        command = self.scp_command+\" -o ConnectTimeout=5\"\n",
    "        if options != 0:\n",
    "            command += \" \"+options\n",
    "        command += script_file + \" \"+self.host+\":\"\n",
    "        if self.debug: print \"Copy command:\",command\n",
    "        proc = subprocess.Popen(command.split(\" \"), stdout=subprocess.PIPE, stderr=subprocess.PIPE, bufsize=1, shell=False)\n",
    "        std,stderr = proc.communicate()\n",
    "        exitcode = proc.poll()\n",
    "        if exitcode != 0:        \n",
    "            print \"Error copying\",script_file,\"to\",self.hostname,exitcode\n",
    "            print std\n",
    "            print \"!\",stderr\n",
    "            \n",
    "        return exitcode\n",
    "    \n",
    "    \n",
    "    def connect_test(self):\n",
    "        options = \"-o ConnectTimeout=5\"\n",
    "        return self.execute(\"hostname\",options=options)\n",
    "        "
   ]
  },
  {
   "cell_type": "code",
   "execution_count": 10,
   "metadata": {},
   "outputs": [
    {
     "name": "stdout",
     "output_type": "stream",
     "text": [
      "hostname,address,user,key: DL 192.168.12.116  \n",
      "ssh command: ssh host: DL\n"
     ]
    }
   ],
   "source": [
    "dl_serv = Host(\"DL\",\"192.168.12.116\",debug=True)"
   ]
  },
  {
   "cell_type": "code",
   "execution_count": 13,
   "metadata": {},
   "outputs": [
    {
     "name": "stdout",
     "output_type": "stream",
     "text": [
      "script file exists: /Users/peterbryzgalov/work/ML/mlframework/mlframe/scripts/test.sh\n",
      "Copy command: scp -o ConnectTimeout=5 /Users/peterbryzgalov/work/ML/mlframework/mlframe/scripts/test.sh DL:\n",
      "Command: ./test.sh ab cs; echo echo test\n",
      "Executing: ssh.DL../test.sh.ab.cs;.echo.echo.test\n",
      "Callback: <bound method Host.removeScriptFile of <__main__.Host object at 0x10f55c6d0>> test.sh\n",
      "In BashExecutor:\n",
      "Command set to ' ssh DL ./test.sh ab cs; echo echo test '\n",
      "command type: <type 'str'>\n",
      "Callback: <bound method Host.removeScriptFile of <__main__.Host object at 0x10f55c6d0>> test.sh\n",
      "In  BackgroundExecutor-10  command=' ['ssh', 'DL', './test.sh', 'ab', 'cs;', 'echo', 'echo', 'test'] '\n",
      "Callback: <bound method Host.removeScriptFile of <__main__.Host object at 0x10f55c6d0>> test.sh\n"
     ]
    },
    {
     "data": {
      "text/plain": [
       "2"
      ]
     },
     "execution_count": 13,
     "metadata": {},
     "output_type": "execute_result"
    },
    {
     "name": "stdout",
     "output_type": "stream",
     "text": [
      "In BackgroundExecutor-10. Calling ['ssh', 'DL', './test.sh', 'ab', 'cs;', 'echo', 'echo', 'test']\n",
      "BackgroundExecutor-10 process started\n",
      "Warning: Permanently added '192.168.12.116' (ECDSA) to the list of known hosts.\n",
      "Running test command on DL-Server pars: ab cs\n",
      "DL-Server(ab):1\n",
      "(ab):1\n",
      "DL-Server(ab) err:1\n",
      "DL-Server(ab):2\n",
      "(ab):2\n",
      "DL-Server(ab) err:2\n",
      "DL-Server(ab):3\n",
      "(ab):3\n",
      "DL-Server(ab) err:3\n",
      "DL-Server(ab):4\n",
      "(ab):4\n",
      "DL-Server(ab) err:4\n",
      "DL-Server(ab):5\n",
      "(ab):5\n",
      "DL-Server(ab) err:5\n",
      "echo test\n",
      "exit code: 0 Calling callback <bound method Host.removeScriptFile of <__main__.Host object at 0x10f55c6d0>> test.sh\n",
      "Remove command: ssh DL rm test.sh\n"
     ]
    }
   ],
   "source": [
    "dl_serv.execute(\"test.sh ab cs; echo echo test\")"
   ]
  },
  {
   "cell_type": "code",
   "execution_count": 12,
   "metadata": {},
   "outputs": [
    {
     "name": "stdout",
     "output_type": "stream",
     "text": [
      "In BashExecutor:\n",
      "Command set to ' ping -c 5 192.168.12.116 '\n",
      "command type: <type 'str'>\n",
      "Callback: None None\n",
      "In  BackgroundExecutor-8  command=' ['ping', '-c', '5', '192.168.12.116'] '\n"
     ]
    },
    {
     "data": {
      "text/plain": [
       "1"
      ]
     },
     "execution_count": 12,
     "metadata": {},
     "output_type": "execute_result"
    },
    {
     "name": "stdout",
     "output_type": "stream",
     "text": [
      "In BackgroundExecutor-8. Calling ['ping', '-c', '5', '192.168.12.116']\n",
      "BackgroundExecutor-8 process started\n",
      "PING 192.168.12.116 (192.168.12.116): 56 data bytes\n",
      "Request timeout for icmp_seq 0\n",
      "Request timeout for icmp_seq 1\n",
      "Request timeout for icmp_seq 2\n",
      "Request timeout for icmp_seq 3\n",
      "\n",
      "--- 192.168.12.116 ping statistics ---\n",
      "5 packets transmitted, 0 packets received, 100.0% packet loss\n",
      "exit code: 2"
     ]
    }
   ],
   "source": [
    "dl_serv.ping()"
   ]
  },
  {
   "cell_type": "code",
   "execution_count": 14,
   "metadata": {},
   "outputs": [
    {
     "name": "stdout",
     "output_type": "stream",
     "text": [
      "hostname,address,user,key: mouse mouse.local peter /Users/peterbryzgalov/.ssh/id_rsa_com\n",
      "ssh command: ssh.-i./Users/peterbryzgalov/.ssh/id_rsa_com host: peter@mouse\n"
     ]
    }
   ],
   "source": [
    "key = \"~/.ssh/id_rsa_com\"\n",
    "mouse = Host(\"mouse\",\"mouse.local\",user=\"peter\",key=key,debug=True)"
   ]
  },
  {
   "cell_type": "code",
   "execution_count": 31,
   "metadata": {},
   "outputs": [
    {
     "data": {
      "text/plain": [
       "17"
      ]
     },
     "execution_count": 31,
     "metadata": {},
     "output_type": "execute_result"
    },
    {
     "name": "stdout",
     "output_type": "stream",
     "text": [
      "Warning: Permanently added 'mouse.local,fe80::e27:b843:c6d6:6e6f%en1' (ECDSA) to the list of known hosts.\n",
      "/home/peter\n"
     ]
    }
   ],
   "source": [
    "mouse.execute(\"pwd\")"
   ]
  },
  {
   "cell_type": "code",
   "execution_count": 16,
   "metadata": {
    "scrolled": true
   },
   "outputs": [
    {
     "name": "stdout",
     "output_type": "stream",
     "text": [
      "Command: hostname\n",
      "Executing: ssh.-i./Users/peterbryzgalov/.ssh/id_rsa_com.-o.ConnectTimeout=5.peter@mouse.hostname\n",
      "In BashExecutor:\n",
      "Command set to ' ssh -i /Users/peterbryzgalov/.ssh/id_rsa_com -o ConnectTimeout=5 peter@mouse hostname '\n",
      "command type: <type 'str'>\n",
      "Callback: None None\n",
      "In  BackgroundExecutor-14  command=' ['ssh', '-i', '/Users/peterbryzgalov/.ssh/id_rsa_com', '-o', 'ConnectTimeout=5', 'peter@mouse', 'hostname'] '\n"
     ]
    },
    {
     "data": {
      "text/plain": [
       "1"
      ]
     },
     "execution_count": 16,
     "metadata": {},
     "output_type": "execute_result"
    },
    {
     "name": "stdout",
     "output_type": "stream",
     "text": [
      "In BackgroundExecutor-14. Calling ['ssh', '-i', '/Users/peterbryzgalov/.ssh/id_rsa_com', '-o', 'ConnectTimeout=5', 'peter@mouse', 'hostname']\n",
      "BackgroundExecutor-14 process started\n",
      "Warning: Permanently added 'mouse.local,fe80::e27:b843:c6d6:6e6f%en1' (ECDSA) to the list of known hosts.\n",
      "mouse\n",
      "exit code: 0"
     ]
    }
   ],
   "source": [
    "mouse.connect_test()"
   ]
  },
  {
   "cell_type": "code",
   "execution_count": 17,
   "metadata": {},
   "outputs": [
    {
     "name": "stdout",
     "output_type": "stream",
     "text": [
      "In BashExecutor:\n",
      "Command set to ' ping -c 5 mouse.local '\n",
      "command type: <type 'str'>\n",
      "Callback: None None\n",
      "In  BackgroundExecutor-16  command=' ['ping', '-c', '5', 'mouse.local'] '\n"
     ]
    },
    {
     "data": {
      "text/plain": [
       "2"
      ]
     },
     "execution_count": 17,
     "metadata": {},
     "output_type": "execute_result"
    },
    {
     "name": "stdout",
     "output_type": "stream",
     "text": [
      "In BackgroundExecutor-16. Calling ['ping', '-c', '5', 'mouse.local']\n",
      "BackgroundExecutor-16 process started\n",
      "PING mouse.local (192.168.83.30): 56 data bytes\n",
      "64 bytes from 192.168.83.30: icmp_seq=0 ttl=64 time=4.180 ms\n",
      "64 bytes from 192.168.83.30: icmp_seq=1 ttl=64 time=0.623 ms\n",
      "64 bytes from 192.168.83.30: icmp_seq=2 ttl=64 time=3.543 ms\n",
      "64 bytes from 192.168.83.30: icmp_seq=3 ttl=64 time=0.709 ms\n",
      "64 bytes from 192.168.83.30: icmp_seq=4 ttl=64 time=0.768 ms\n",
      "\n",
      "--- mouse.local ping statistics ---\n",
      "5 packets transmitted, 5 packets received, 0.0% packet loss\n",
      "round-trip min/avg/max/stddev = 0.623/1.965/4.180/1.563 ms\n",
      "exit code: 0"
     ]
    }
   ],
   "source": [
    "mouse.ping()"
   ]
  },
  {
   "cell_type": "code",
   "execution_count": 30,
   "metadata": {},
   "outputs": [
    {
     "data": {
      "text/plain": [
       "16"
      ]
     },
     "execution_count": 30,
     "metadata": {},
     "output_type": "execute_result"
    },
    {
     "name": "stdout",
     "output_type": "stream",
     "text": [
      "Warning: Permanently added 'mouse.local,fe80::e27:b843:c6d6:6e6f%en1' (ECDSA) to the list of known hosts.\n",
      "# gpu    sm   mem   enc   dec\n",
      "# Idx     %     %     %     %\n",
      "    0    36    34     0     0\n",
      "    0    54    53     0     0\n"
     ]
    }
   ],
   "source": [
    "mouse.execute(\"nvidia-smi dmon -c 2 -s u\")"
   ]
  },
  {
   "cell_type": "code",
   "execution_count": 25,
   "metadata": {},
   "outputs": [
    {
     "name": "stdout",
     "output_type": "stream",
     "text": [
      "PING mouse.local (192.168.83.30): 56 data bytes\n",
      "Warning: Permanently added 'mouse.local,192.168.83.30' (ECDSA) to the list of known hosts.\n",
      "Warning: Permanently added 'mouse.local,fe80::e27:b843:c6d6:6e6f%en1' (ECDSA) to the list of known hosts.\n",
      "64 bytes from 192.168.83.30: icmp_seq=0 ttl=64 time=0.658 ms\n",
      "Warning: Permanently added 'mouse.local,fe80::e27:b843:c6d6:6e6f%en1' (ECDSA) to the list of known hosts.\n",
      "mouse\n",
      "mouse\n",
      "\n",
      "Running test command on mouse pars: \n",
      "Fri Apr 27 19:27:51 JST 2018\n",
      "--- mouse.local ping statistics ---\n",
      "mouse():1\n",
      "1 packets transmitted, 1 packets received, 0.0% packet loss\n",
      "():1\n",
      "round-trip min/avg/max/stddev = 0.658/0.658/0.658/0.000 ms\n",
      "mouse() err:1\n",
      "mouse():2\n",
      "():2\n",
      "mouse() err:2\n",
      "mouse():3\n",
      "():3\n",
      "mouse() err:3\n",
      "mouse():4\n",
      "():4\n",
      "mouse() err:4\n",
      "mouse():5\n",
      "():5\n",
      "mouse() err:5\n"
     ]
    }
   ],
   "source": [
    "mouse.debug=False\n",
    "test = range(4)\n",
    "test[0] = mouse.ping(1)\n",
    "test[1] = mouse.connect_test()\n",
    "test[2] = mouse.execute(\"hostname && date\")\n",
    "test[3] = mouse.execute(\"test.sh\")"
   ]
  },
  {
   "cell_type": "code",
   "execution_count": 24,
   "metadata": {},
   "outputs": [
    {
     "name": "stdout",
     "output_type": "stream",
     "text": [
      "7 ping -c 1 mouse.local\n",
      "PING mouse.local (192.168.83.30): 56 data bytes\n",
      "64 bytes from 192.168.83.30: icmp_seq=0 ttl=64 time=0.755 ms\n",
      "\n",
      "--- mouse.local ping statistics ---\n",
      "1 packets transmitted, 1 packets received, 0.0% packet loss\n",
      "round-trip min/avg/max/stddev = 0.755/0.755/0.755/0.000 ms\n",
      "exit 0\n",
      "\n",
      "8 ssh -i /Users/peterbryzgalov/.ssh/id_rsa_com -o ConnectTimeout=5 peter@mouse hostname\n",
      "Warning: Permanently added 'mouse.local,fe80::e27:b843:c6d6:6e6f%en1' (ECDSA) to the list of known hosts.\r\n",
      "mouse\n",
      "exit 0\n",
      "\n",
      "9 ssh -i /Users/peterbryzgalov/.ssh/id_rsa_com peter@mouse hostname && date\n",
      "Warning: Permanently added 'mouse.local,fe80::e27:b843:c6d6:6e6f%en1' (ECDSA) to the list of known hosts.\r\n",
      "mouse\n",
      "Fri Apr 27 19:22:12 JST 2018\n",
      "exit 0\n",
      "\n",
      "10 ssh -i /Users/peterbryzgalov/.ssh/id_rsa_com peter@mouse ./test.sh\n",
      "Warning: Permanently added 'mouse.local,fe80::e27:b843:c6d6:6e6f%en1' (ECDSA) to the list of known hosts.\r\n",
      "Running test command on mouse pars: \n",
      "mouse():1\n",
      "():1\n",
      "mouse() err:1\n",
      "mouse():2\n",
      "():2\n",
      "mouse() err:2\n",
      "mouse():3\n",
      "():3\n",
      "mouse() err:3\n",
      "mouse():4\n",
      "():4\n",
      "mouse() err:4\n",
      "mouse():5\n",
      "():5\n",
      "mouse() err:5\n",
      "exit 125\n",
      "\n"
     ]
    }
   ],
   "source": [
    "for tst in test:\n",
    "    print tst, mouse.commands[tst].getCommand()\n",
    "    print mouse.commands[tst].getStdout(),\n",
    "    print \"exit\",mouse.commands[tst].getExitcode()\n",
    "    print"
   ]
  },
  {
   "cell_type": "code",
   "execution_count": 22,
   "metadata": {},
   "outputs": [
    {
     "name": "stdout",
     "output_type": "stream",
     "text": [
      "[ssh -i /Users/peterbryzgalov/.ssh/id_rsa_com peter@mouse ./test.sh (125), ssh -i /Users/peterbryzgalov/.ssh/id_rsa_com -o ConnectTimeout=5 peter@mouse hostname (0), ping -c 5 mouse.local (0), ssh -i /Users/peterbryzgalov/.ssh/id_rsa_com peter@mouse nvidia-smi dmon -c 2 -s u (0), ping -c 1 mouse.local (0), ssh -i /Users/peterbryzgalov/.ssh/id_rsa_com -o ConnectTimeout=5 peter@mouse hostname (0), ssh -i /Users/peterbryzgalov/.ssh/id_rsa_com peter@mouse hostname && date (0), ping -c 1 mouse.local (0), ssh -i /Users/peterbryzgalov/.ssh/id_rsa_com -o ConnectTimeout=5 peter@mouse hostname (0), ssh -i /Users/peterbryzgalov/.ssh/id_rsa_com peter@mouse hostname && date (0), ssh -i /Users/peterbryzgalov/.ssh/id_rsa_com peter@mouse ./test.sh (125)]\n"
     ]
    }
   ],
   "source": [
    "print mouse.commands"
   ]
  },
  {
   "cell_type": "code",
   "execution_count": 26,
   "metadata": {},
   "outputs": [],
   "source": [
    "reedbush = Host(\"reedbush\",\"reedbush.cc.u-tokyo.ac.jp\",key=\"~/.ssh/id_rsa_com\",user=\"i96005\")"
   ]
  },
  {
   "cell_type": "code",
   "execution_count": 27,
   "metadata": {},
   "outputs": [
    {
     "name": "stdout",
     "output_type": "stream",
     "text": [
      "Error copying /Users/peterbryzgalov/work/ML/mlframework/mlframe/scripts/test.sh to reedbush 1\n",
      "\n",
      "! Warning: Permanently added 'reedbush.cc.u-tokyo.ac.jp,130.69.241.11' (ECDSA) to the list of known hosts.\r\n",
      "Connection closed by 130.69.241.11 port 22\r\n",
      "lost connection\n",
      "\n"
     ]
    },
    {
     "data": {
      "text/plain": [
       "-1"
      ]
     },
     "execution_count": 27,
     "metadata": {},
     "output_type": "execute_result"
    }
   ],
   "source": [
    "reedbush.execute(\"test.sh\")"
   ]
  },
  {
   "cell_type": "code",
   "execution_count": 28,
   "metadata": {},
   "outputs": [
    {
     "data": {
      "text/plain": [
       "0"
      ]
     },
     "execution_count": 28,
     "metadata": {},
     "output_type": "execute_result"
    },
    {
     "name": "stdout",
     "output_type": "stream",
     "text": [
      "PING reedbush.cc.u-tokyo.ac.jp (130.69.241.11): 56 data bytes\n",
      "64 bytes from 130.69.241.11: icmp_seq=0 ttl=54 time=3.306 ms\n",
      "64 bytes from 130.69.241.11: icmp_seq=1 ttl=54 time=6.005 ms\n",
      "64 bytes from 130.69.241.11: icmp_seq=2 ttl=54 time=6.008 ms\n",
      "\n",
      "--- reedbush.cc.u-tokyo.ac.jp ping statistics ---\n",
      "3 packets transmitted, 3 packets received, 0.0% packet loss\n",
      "round-trip min/avg/max/stddev = 3.306/5.106/6.008/1.273 ms\n"
     ]
    }
   ],
   "source": [
    "reedbush.ping(3)"
   ]
  },
  {
   "cell_type": "code",
   "execution_count": null,
   "metadata": {},
   "outputs": [],
   "source": []
  }
 ],
 "metadata": {
  "kernelspec": {
   "display_name": "Python 2",
   "language": "python",
   "name": "python2"
  },
  "language_info": {
   "codemirror_mode": {
    "name": "ipython",
    "version": 2
   },
   "file_extension": ".py",
   "mimetype": "text/x-python",
   "name": "python",
   "nbconvert_exporter": "python",
   "pygments_lexer": "ipython2",
   "version": "2.7.15"
  },
  "toc": {
   "base_numbering": 1,
   "nav_menu": {},
   "number_sections": true,
   "sideBar": true,
   "skip_h1_title": true,
   "title_cell": "Table of Contents",
   "title_sidebar": "Contents",
   "toc_cell": false,
   "toc_position": {},
   "toc_section_display": true,
   "toc_window_display": false
  }
 },
 "nbformat": 4,
 "nbformat_minor": 2
}
