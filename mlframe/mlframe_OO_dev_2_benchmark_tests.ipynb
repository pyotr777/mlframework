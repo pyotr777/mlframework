{
 "cells": [
  {
   "cell_type": "markdown",
   "metadata": {},
   "source": [
    "# Use this notebook for developing mlframe prototype 2\n",
    "\n",
    "## Object-oriented approach. Testing on DL with benchmarks."
   ]
  },
  {
   "cell_type": "code",
   "execution_count": 1,
   "metadata": {},
   "outputs": [],
   "source": [
    "import multiprocessing\n",
    "from Queue import Queue, Empty\n",
    "import subprocess\n",
    "import os\n",
    "import time\n",
    "import re\n",
    "import sys"
   ]
  },
  {
   "cell_type": "code",
   "execution_count": 2,
   "metadata": {},
   "outputs": [],
   "source": [
    "def printObj(obj):\n",
    "    for key,val in obj.__dict__.iteritems():\n",
    "        print key,\"=\",val"
   ]
  },
  {
   "cell_type": "code",
   "execution_count": 51,
   "metadata": {},
   "outputs": [],
   "source": [
    "# Class for executing local and remote commands in background processes.\n",
    "# Command must be in multiprocessing.Manager.dict().\n",
    "# Command must be a string with the command and arguments separated with spaces.\n",
    "# Should be called from BashExecutor class.\n",
    "# Usage sample: \n",
    "# d = BashExecutor(command,hostname=hostname)\n",
    "# d.start()\n",
    "#  command - string representation of the command and arguments.\n",
    "# exec_remote.sh must output subprocess exit code in the form:\n",
    "# exitcode=N\n",
    "# , where N is the number.\n",
    "class BackgroundExecutor(multiprocessing.Process):\n",
    "    \n",
    "    def __init__(self, d = {}, debug=False, hostname=\"\", callback=None, callback_params=None):\n",
    "        super(BackgroundExecutor,self).__init__()\n",
    "        self.debug = debug\n",
    "        self.hostname = hostname\n",
    "        self.exitcode_pat = re.compile(\"^exitcode=(\\d+)\")\n",
    "        self.d = d\n",
    "        self.command = d[\"command\"].split(\" \")\n",
    "        self.callback = callback\n",
    "        self.callback_params = callback_params\n",
    "        if debug:\n",
    "            print \"In \",self.name,\" command='\",self.command,\"'\"\n",
    "            if callback is not None:\n",
    "                print \"Callback:\",callback,callback_params\n",
    "        \n",
    "        \n",
    "    # Poll exit code of self.proc and store it if not None.\n",
    "    def poll(self):\n",
    "        exitcode = self.proc.poll()\n",
    "        if exitcode is not None:\n",
    "            self.setExitCode(exitcode)\n",
    "            if self.callback is not None:\n",
    "                if self.debug: print \"Calling callback\",str(self.callback),str(self.callback_params)\n",
    "                self.callback(self.callback_params)\n",
    "        return exitcode\n",
    "    \n",
    "    # Set given exit code to Command class object.\n",
    "    # Called from poll() method.\n",
    "    def setExitCode(self, ec):\n",
    "#         if self.debug:\n",
    "#             print \"Manager.dict object:\",repr(self.d)\n",
    "#             print type(self.d)\n",
    "#             printObj(self.d)\n",
    "        if self.d[\"exitcode\"] == \"\":\n",
    "            if self.debug: print \"exit code:\",ec,\n",
    "            self.d[\"exitcode\"] = ec                        \n",
    "        \n",
    "            \n",
    "    def run(self):\n",
    "        if self.debug: \n",
    "            print \"In {}. Calling {}\".format(self.name,self.command)\n",
    "            \n",
    "        command = self.command\n",
    "        proc = subprocess.Popen(command, stdout=subprocess.PIPE, stderr=subprocess.STDOUT, bufsize=1, shell=False)\n",
    "        self.proc = proc\n",
    "        if self.debug: print self.name, \"process started\"\n",
    "        std = \"\"\n",
    "        for std in iter(proc.stdout.readline, b''):\n",
    "            if std is not None and len(std) > 0:\n",
    "                self.d[\"stdout\"] = self.d[\"stdout\"] + std\n",
    "                if self.debug:\n",
    "                    self.d[1]=1                    \n",
    "                    assert self.d[1] ==1, \"Cannot set to Manager dictionary\"\n",
    "                print std,\n",
    "            \n",
    "            time.sleep(.5)\n",
    "        self.poll()\n",
    "    \n",
    "    def nameYourself(self):\n",
    "        cp = multiprocessing.current_process()\n",
    "        print \"name\",cp._name\n",
    "        print \"parent pid\",cp._parent_pid\n",
    "        print \"id\",cp._identity\n",
    "    \n",
    "    def getExitcode(self):\n",
    "        return self.d[\"exitcode\"]\n",
    "            "
   ]
  },
  {
   "cell_type": "code",
   "execution_count": 52,
   "metadata": {},
   "outputs": [],
   "source": [
    "# Class for calling BackgroundExecutor with multiprocessing.Manager.dict object,\n",
    "# which stores string representation of the command, and after execution: its ouptput and exit code.\n",
    "class BashExecutor:\n",
    "    def __init__(self, command, debug=False, callback=None, callback_params=None):\n",
    "        manager = multiprocessing.Manager()\n",
    "        self.d = manager.dict()\n",
    "        self.d[\"command\"] = command\n",
    "        if debug:\n",
    "            print \"In BashExecutor:\"\n",
    "            print \"Command set to '\",self.d[\"command\"],\"'\"\n",
    "            print \"command type:\",type(self.d[\"command\"])\n",
    "            print \"Callback:\",callback, callback_params\n",
    "        self.d[\"stdout\"] = \"\"\n",
    "        self.d[\"exitcode\"] = \"\"\n",
    "        self.debug = debug\n",
    "        self.BE = BackgroundExecutor(self.d, self.debug, callback=callback, callback_params=callback_params)\n",
    "        \n",
    "    def start(self):\n",
    "        self.BE.start()\n",
    "        \n",
    "    def getExitcode(self):        \n",
    "        return self.d[\"exitcode\"]\n",
    "    \n",
    "    def getStdout(self):\n",
    "        return self.d[\"stdout\"]\n",
    "    \n",
    "    def getCommand(self):\n",
    "        return self.d[\"command\"]\n",
    "        \n",
    "    def __str__(self):\n",
    "        s = self.d[\"command\"]\n",
    "        if self.d[\"exitcode\"] != \"\":\n",
    "            s += \" (\"+str(self.d[\"exitcode\"])+\")\"            \n",
    "        return s\n",
    "    \n",
    "    def __repr__(self):\n",
    "        s = self.d[\"command\"]\n",
    "        if self.d[\"exitcode\"] != \"\":\n",
    "            s += \" (\"+str(self.d[\"exitcode\"])+\")\"            \n",
    "        return s\n",
    "        "
   ]
  },
  {
   "cell_type": "code",
   "execution_count": 83,
   "metadata": {},
   "outputs": [],
   "source": [
    "# Class for storing host-related data: hostname, access key and username.\n",
    "# Stores commands (instances of Command class) executed on the host.\n",
    "# Has methods for connecting to the host with ssh, connection test, executing commands.\n",
    "class Host(object):\n",
    "    \n",
    "    def __init__(self, hostname, address=\"localhost\", user=\"\", key=\"\", debug=False, ssh_options=\"\", scp_options=\"\"):\n",
    "        self.hostname = hostname\n",
    "        self.address = address\n",
    "        self.user = user\n",
    "        key = key.replace(\"~\",os.environ['HOME'])\n",
    "        self.key = key\n",
    "        self.debug = debug\n",
    "        self.ssh_command = \"ssh\"\n",
    "        self.scp_command = \"scp\"\n",
    "        if key != \"\":\n",
    "            self.ssh_command += \" -i \"+key\n",
    "            self.scp_command += \" -i \"+key\n",
    "        if ssh_options != \"\":\n",
    "            self.ssh_command += \" -o \"+ssh_options\n",
    "        if scp_options != \"\":\n",
    "            self.scp_command += \" -o \"+scp_options\n",
    "\n",
    "        self.host=\"\"\n",
    "        if user != \"\":\n",
    "            self.host += user+\"@\"\n",
    "        self.host += hostname\n",
    "        self.commands = []\n",
    "        if debug:\n",
    "            print \"hostname,address,user,key:\",self.hostname,self.address,self.user,self.key\n",
    "            print \"ssh command:\",self.ssh_command.replace(' ','.'),\"host:\",self.host\n",
    "        \n",
    "    def ping(self, N=5):        \n",
    "        comm = BashExecutor(\"ping -c \"+str(N)+\" \"+self.address, debug=self.debug)\n",
    "        #print \"Append:\",self.commands.append(comm)\n",
    "        index = len(self.commands)\n",
    "        self.commands.append(comm)\n",
    "        comm.start()        \n",
    "        return index\n",
    "        \n",
    "    \n",
    "    # Execute command on the server\n",
    "    # If command is a script file, copy the file before executing it.\n",
    "    def execute(self,command,options=\"\"):\n",
    "        # Deside if command is a script name or just a command\n",
    "        package_directory = os.path.dirname(os.getcwd())\n",
    "        scripts_location=os.path.realpath(os.path.join(package_directory,\"mlframe\",\"scripts\"))\n",
    "        command_list = command.split(\" \")\n",
    "        command_file = command_list[0]\n",
    "        command_script_path = os.path.join(scripts_location, command_file)\n",
    "        callback = None\n",
    "        if os.path.isfile(command_script_path):\n",
    "            if self.debug: print \"script file exists:\",command_script_path\n",
    "            # Joined command: execute remote script file and delete it\n",
    "            command = \"./\"+command\n",
    "            if self.copyScriptFile(command_script_path) != 0:\n",
    "                # Error copying script file\n",
    "                return -1\n",
    "            callback = self.removeScriptFile\n",
    "            callback_params = command_file\n",
    "            \n",
    "        if self.debug: print \"Command:\",command\n",
    "        \n",
    "        if options != \"\":\n",
    "            options = \" \"+options\n",
    "        command = self.ssh_command+options+\" \"+self.host+\" \"+command\n",
    "        \n",
    "        if self.debug:\n",
    "            print \"Executing:\",command.replace(' ','.')\n",
    "            if callback is not None:\n",
    "                print \"Callback:\",callback,callback_params\n",
    "        if callback is not None:\n",
    "            comm = BashExecutor(command, debug=self.debug,callback=callback, callback_params=callback_params)\n",
    "        else:\n",
    "            comm = BashExecutor(command, debug=self.debug)\n",
    "        index = len(self.commands)\n",
    "        self.commands.append(comm)\n",
    "        comm.start()        \n",
    "        return index\n",
    "    \n",
    "    def removeScriptFile(self, script_file, options=\"\"):\n",
    "        command = self.ssh_command\n",
    "        if options != 0:\n",
    "            command += \" \"+options\n",
    "        command += self.host+\" rm \"+ script_file\n",
    "        if self.debug: print \"Remove command:\",command\n",
    "        proc = subprocess.Popen(command.split(\" \"), stdout=subprocess.PIPE, stderr=subprocess.STDOUT, bufsize=1, shell=False)\n",
    "        std,stderr = proc.communicate()\n",
    "        exitcode = proc.poll()\n",
    "        if exitcode != 0:        \n",
    "            print \"Error deleting\",script_file,\"on\",self.hostname,exitcode\n",
    "            print std\n",
    "            print \"!\",stderr\n",
    "            \n",
    "        return exitcode\n",
    "        \n",
    "    # Copy script file to the host.\n",
    "    # Called every time before remote script execution.\n",
    "    def copyScriptFile(self, script_file, options=\"\"):\n",
    "        command = self.scp_command+\" -o ConnectTimeout=5\"\n",
    "        if options != 0:\n",
    "            command += \" \"+options\n",
    "        command += script_file + \" \"+self.host+\":\"\n",
    "        if self.debug: print \"Copy command:\",command\n",
    "        proc = subprocess.Popen(command.split(\" \"), stdout=subprocess.PIPE, stderr=subprocess.PIPE, bufsize=1, shell=False)\n",
    "        std,stderr = proc.communicate()\n",
    "        exitcode = proc.poll()\n",
    "        if exitcode != 0:        \n",
    "            print \"Error copying\",script_file,\"to\",self.hostname,exitcode\n",
    "            print std\n",
    "            print \"!\",stderr\n",
    "            \n",
    "        return exitcode\n",
    "    \n",
    "    def connect_test(self):\n",
    "        options = \"-o ConnectTimeout=5\"\n",
    "        return self.execute(\"hostname\",options=options)\n",
    "        "
   ]
  },
  {
   "cell_type": "code",
   "execution_count": 85,
   "metadata": {},
   "outputs": [
    {
     "name": "stdout",
     "output_type": "stream",
     "text": [
      "hostname,address,user,key: DL DL  \n",
      "ssh command: ssh host: DL\n"
     ]
    }
   ],
   "source": [
    "dl_serv = Host(\"DL\",\"DL\",debug=True)"
   ]
  },
  {
   "cell_type": "code",
   "execution_count": 86,
   "metadata": {},
   "outputs": [
    {
     "name": "stdout",
     "output_type": "stream",
     "text": [
      "script file exists: /Users/peterbryzgalov/work/ML/mlframework/mlframe/scripts/test.sh\n",
      "Copy command: scp -o ConnectTimeout=5 /Users/peterbryzgalov/work/ML/mlframework/mlframe/scripts/test.sh DL:\n",
      "Command: ./test.sh ab cs\n",
      "Executing: ssh.DL../test.sh.ab.cs\n",
      "Callback: <bound method Host.removeScriptFile of <__main__.Host object at 0x1090bd510>> test.sh\n",
      "In BashExecutor:\n",
      "Command set to ' ssh DL ./test.sh ab cs '\n",
      "command type: <type 'str'>\n",
      "Callback: <bound method Host.removeScriptFile of <__main__.Host object at 0x1090bd510>> test.sh\n",
      "In  BackgroundExecutor-58  command=' ['ssh', 'DL', './test.sh', 'ab', 'cs'] '\n",
      "Callback: <bound method Host.removeScriptFile of <__main__.Host object at 0x1090bd510>> test.sh\n"
     ]
    },
    {
     "data": {
      "text/plain": [
       "0"
      ]
     },
     "execution_count": 86,
     "metadata": {},
     "output_type": "execute_result"
    },
    {
     "name": "stdout",
     "output_type": "stream",
     "text": [
      "In BackgroundExecutor-58. Calling ['ssh', 'DL', './test.sh', 'ab', 'cs']\n",
      "BackgroundExecutor-58 process started\n",
      "Warning: Permanently added '192.168.12.116' (ECDSA) to the list of known hosts.\n",
      "Running test command on DL-Server pars: ab cs\n",
      "DL-Server(ab):1\n",
      "(ab):1\n",
      "DL-Server(ab) err:1\n",
      "DL-Server(ab):2\n",
      "(ab):2\n",
      "DL-Server(ab) err:2\n",
      "DL-Server(ab):3\n",
      "(ab):3\n",
      "DL-Server(ab) err:3\n",
      "DL-Server(ab):4\n",
      "(ab):4\n",
      "DL-Server(ab):5\n",
      "(ab):5\n",
      "DL-Server(ab) err:4\n",
      "DL-Server(ab) err:5\n",
      "exit code: 125 Calling callback <bound method Host.removeScriptFile of <__main__.Host object at 0x1090bd510>> test.sh\n",
      "Remove command: ssh DL rm test.sh\n"
     ]
    }
   ],
   "source": [
    "dl_serv.execute(\"test.sh ab cs\")"
   ]
  },
  {
   "cell_type": "code",
   "execution_count": 87,
   "metadata": {},
   "outputs": [
    {
     "name": "stdout",
     "output_type": "stream",
     "text": [
      "hostname,address,user,key: mouse-pub mouse-pub peter /Users/peterbryzgalov/.ssh/id_rsa_com\n",
      "ssh command: ssh.-i./Users/peterbryzgalov/.ssh/id_rsa_com host: peter@mouse-pub\n"
     ]
    }
   ],
   "source": [
    "key = \"~/.ssh/id_rsa_com\"\n",
    "mouse = Host(\"mouse-pub\",\"mouse-pub\",user=\"peter\",key=key,debug=True)"
   ]
  },
  {
   "cell_type": "code",
   "execution_count": 88,
   "metadata": {},
   "outputs": [
    {
     "name": "stdout",
     "output_type": "stream",
     "text": [
      "script file exists: /Users/peterbryzgalov/work/ML/mlframework/mlframe/scripts/test.sh\n",
      "Copy command: scp -i /Users/peterbryzgalov/.ssh/id_rsa_com -o ConnectTimeout=5 /Users/peterbryzgalov/work/ML/mlframework/mlframe/scripts/test.sh peter@mouse-pub:\n",
      "Command: ./test.sh\n",
      "Executing: ssh.-i./Users/peterbryzgalov/.ssh/id_rsa_com.peter@mouse-pub../test.sh\n",
      "Callback: <bound method Host.removeScriptFile of <__main__.Host object at 0x1090bdcd0>> test.sh\n",
      "In BashExecutor:\n",
      "Command set to ' ssh -i /Users/peterbryzgalov/.ssh/id_rsa_com peter@mouse-pub ./test.sh '\n",
      "command type: <type 'str'>\n",
      "Callback: <bound method Host.removeScriptFile of <__main__.Host object at 0x1090bdcd0>> test.sh\n",
      "In  BackgroundExecutor-60  command=' ['ssh', '-i', '/Users/peterbryzgalov/.ssh/id_rsa_com', 'peter@mouse-pub', './test.sh'] '\n",
      "Callback: <bound method Host.removeScriptFile of <__main__.Host object at 0x1090bdcd0>> test.sh\n"
     ]
    },
    {
     "data": {
      "text/plain": [
       "0"
      ]
     },
     "execution_count": 88,
     "metadata": {},
     "output_type": "execute_result"
    },
    {
     "name": "stdout",
     "output_type": "stream",
     "text": [
      "In BackgroundExecutor-60. Calling ['ssh', '-i', '/Users/peterbryzgalov/.ssh/id_rsa_com', 'peter@mouse-pub', './test.sh']\n",
      "BackgroundExecutor-60 process started\n",
      "Warning: Permanently added 'mouse.local' (ECDSA) to the list of known hosts.\n",
      "Running test command on mouse pars: \n",
      "mouse():1\n",
      "():1\n",
      "mouse() err:1\n",
      "mouse():2\n",
      "():2\n",
      "mouse():3\n",
      "():3\n",
      "mouse() err:2\n",
      "mouse() err:3\n",
      "mouse():4\n",
      "():4\n",
      "mouse():5\n",
      "():5\n",
      "mouse() err:4\n",
      "mouse() err:5\n",
      "exit code: 125 Calling callback <bound method Host.removeScriptFile of <__main__.Host object at 0x1090bdcd0>> test.sh\n",
      "Remove command: ssh -i /Users/peterbryzgalov/.ssh/id_rsa_com peter@mouse-pub rm test.sh\n"
     ]
    }
   ],
   "source": [
    "mouse.execute(\"test.sh\")"
   ]
  },
  {
   "cell_type": "code",
   "execution_count": 89,
   "metadata": {
    "scrolled": true
   },
   "outputs": [
    {
     "name": "stdout",
     "output_type": "stream",
     "text": [
      "Command: hostname\n",
      "Executing: ssh.-o.ConnectTimeout=5.DL.hostname\n",
      "In BashExecutor:\n",
      "Command set to ' ssh -o ConnectTimeout=5 DL hostname '\n",
      "command type: <type 'str'>\n",
      "Callback: None None\n",
      "In  BackgroundExecutor-62  command=' ['ssh', '-o', 'ConnectTimeout=5', 'DL', 'hostname'] '\n"
     ]
    },
    {
     "data": {
      "text/plain": [
       "1"
      ]
     },
     "execution_count": 89,
     "metadata": {},
     "output_type": "execute_result"
    },
    {
     "name": "stdout",
     "output_type": "stream",
     "text": [
      "In BackgroundExecutor-62. Calling ['ssh', '-o', 'ConnectTimeout=5', 'DL', 'hostname']\n",
      "BackgroundExecutor-62 process started\n",
      "Warning: Permanently added '192.168.12.116' (ECDSA) to the list of known hosts.\n",
      "DL-Server\n",
      "exit code: 0"
     ]
    }
   ],
   "source": [
    "dl_serv.connect_test()"
   ]
  },
  {
   "cell_type": "code",
   "execution_count": 90,
   "metadata": {},
   "outputs": [
    {
     "name": "stdout",
     "output_type": "stream",
     "text": [
      "Command: nvidia-smi dmon -c 2 -s u\n",
      "Executing: ssh.DL.nvidia-smi.dmon.-c.2.-s.u\n",
      "In BashExecutor:\n",
      "Command set to ' ssh DL nvidia-smi dmon -c 2 -s u '\n",
      "command type: <type 'str'>\n",
      "Callback: None None\n",
      "In  BackgroundExecutor-64  command=' ['ssh', 'DL', 'nvidia-smi', 'dmon', '-c', '2', '-s', 'u'] '\n"
     ]
    },
    {
     "data": {
      "text/plain": [
       "2"
      ]
     },
     "execution_count": 90,
     "metadata": {},
     "output_type": "execute_result"
    },
    {
     "name": "stdout",
     "output_type": "stream",
     "text": [
      "In BackgroundExecutor-64. Calling ['ssh', 'DL', 'nvidia-smi', 'dmon', '-c', '2', '-s', 'u']\n",
      "BackgroundExecutor-64 process started\n",
      "Warning: Permanently added '192.168.12.116' (ECDSA) to the list of known hosts.\n",
      "# gpu    sm   mem   enc   dec\n",
      "# Idx     %     %     %     %\n",
      "    0     0     0     0     0\n",
      "    1     0     0     0     0\n",
      "    2     0     0     0     0\n",
      "    3     0     1     0     0\n",
      "    4     0     0     0     0\n",
      "    5     0     0     0     0\n",
      "    6     0     0     0     0\n",
      "    7     0     0     0     0\n",
      "    0     0     0     0     0\n",
      "    1     0     0     0     0\n",
      "    2     0     0     0     0\n",
      "    3     0     0     0     0\n",
      "    4     0     0     0     0\n",
      "    5     0     0     0     0\n",
      "    6     0     0     0     0\n",
      "    7     0     0     0     0\n",
      "exit code: 0"
     ]
    }
   ],
   "source": [
    "dl_serv.execute(\"nvidia-smi dmon -c 2 -s u\")"
   ]
  },
  {
   "cell_type": "code",
   "execution_count": 91,
   "metadata": {},
   "outputs": [
    {
     "name": "stdout",
     "output_type": "stream",
     "text": [
      "[0, 1, 2]\n",
      "In BashExecutor:\n",
      "Command set to ' ping -c 1 mouse-pub '\n",
      "command type: <type 'str'>\n",
      "Callback: None None\n",
      "In  BackgroundExecutor-66  command=' ['ping', '-c', '1', 'mouse-pub'] '\n",
      "Command: hostname\n",
      "Executing: ssh.-i./Users/peterbryzgalov/.ssh/id_rsa_com.-o.ConnectTimeout=5.peter@mouse-pub.hostname\n",
      "In BackgroundExecutor-66. Calling ['ping', '-c', '1', 'mouse-pub']\n",
      "BackgroundExecutor-66 process started\n",
      "ping: cannot resolve mouse-pub: Unknown host\n",
      "In BashExecutor:\n",
      "Command set to ' ssh -i /Users/peterbryzgalov/.ssh/id_rsa_com -o ConnectTimeout=5 peter@mouse-pub hostname '\n",
      "command type: <type 'str'>\n",
      "Callback: None None\n",
      "In  BackgroundExecutor-68  command=' ['ssh', '-i', '/Users/peterbryzgalov/.ssh/id_rsa_com', '-o', 'ConnectTimeout=5', 'peter@mouse-pub', 'hostname'] '\n",
      "Command: hostname && date\n",
      "Executing: ssh.-i./Users/peterbryzgalov/.ssh/id_rsa_com.peter@mouse-pub.hostname.&&.date\n",
      "In BackgroundExecutor-68. Calling ['ssh', '-i', '/Users/peterbryzgalov/.ssh/id_rsa_com', '-o', 'ConnectTimeout=5', 'peter@mouse-pub', 'hostname']\n",
      "BackgroundExecutor-68 process started\n",
      "In BashExecutor:\n",
      "Command set to ' ssh -i /Users/peterbryzgalov/.ssh/id_rsa_com peter@mouse-pub hostname && date '\n",
      "command type: <type 'str'>\n",
      "Callback: None None\n",
      "In  BackgroundExecutor-70  command=' ['ssh', '-i', '/Users/peterbryzgalov/.ssh/id_rsa_com', 'peter@mouse-pub', 'hostname', '&&', 'date'] '\n",
      "In BackgroundExecutor-70. Calling ['ssh', '-i', '/Users/peterbryzgalov/.ssh/id_rsa_com', 'peter@mouse-pub', 'hostname', '&&', 'date']\n",
      "BackgroundExecutor-70 process started\n",
      "Warning: Permanently added 'mouse.local' (ECDSA) to the list of known hosts.\n",
      "exit code: 68Warning: Permanently added 'mouse.local' (ECDSA) to the list of known hosts.\n",
      "mouse\n",
      "mouse\n",
      "exit code: 0Sat Mar 31 18:42:11 JST 2018\n",
      "exit code: 0"
     ]
    }
   ],
   "source": [
    "test = range(3)\n",
    "print test\n",
    "test[0] = mouse.ping(1)\n",
    "test[1] = mouse.connect_test()\n",
    "test[2] = mouse.execute(\"hostname && date\")"
   ]
  },
  {
   "cell_type": "code",
   "execution_count": 93,
   "metadata": {},
   "outputs": [
    {
     "name": "stdout",
     "output_type": "stream",
     "text": [
      "1\n",
      "ping -c 1 mouse-pub\n",
      "ping: cannot resolve mouse-pub: Unknown host\n",
      "exit 68\n",
      "2\n",
      "ssh -i /Users/peterbryzgalov/.ssh/id_rsa_com -o ConnectTimeout=5 peter@mouse-pub hostname\n",
      "Warning: Permanently added 'mouse.local' (ECDSA) to the list of known hosts.\r\n",
      "mouse\n",
      "exit 0\n",
      "3\n",
      "ssh -i /Users/peterbryzgalov/.ssh/id_rsa_com peter@mouse-pub hostname && date\n",
      "Warning: Permanently added 'mouse.local' (ECDSA) to the list of known hosts.\r\n",
      "mouse\n",
      "Sat Mar 31 18:42:11 JST 2018\n",
      "exit 0\n"
     ]
    }
   ],
   "source": [
    "for tst in test:\n",
    "    print tst\n",
    "    i=tst\n",
    "    print mouse.commands[i].getCommand()\n",
    "    print mouse.commands[i].getStdout(),\n",
    "    print \"exit\",mouse.commands[i].getExitcode()"
   ]
  },
  {
   "cell_type": "code",
   "execution_count": 58,
   "metadata": {},
   "outputs": [
    {
     "name": "stdout",
     "output_type": "stream",
     "text": [
      "[ping -c 1 mouse.local (0), ssh -i /Users/peterbryzgalov/.ssh/id_rsa_com -o ConnectTimeout=5 peter@mouse.local hostname (0), ssh -i /Users/peterbryzgalov/.ssh/id_rsa_com peter@mouse.local hostname && date (0)]\n"
     ]
    }
   ],
   "source": [
    "print mouse.commands"
   ]
  },
  {
   "cell_type": "code",
   "execution_count": 94,
   "metadata": {},
   "outputs": [],
   "source": [
    "muse = Host(\"muse\",\"52.158.238.181\", user=\"ubuntu\", key=key,debug=False)"
   ]
  },
  {
   "cell_type": "code",
   "execution_count": 95,
   "metadata": {},
   "outputs": [
    {
     "data": {
      "text/plain": [
       "1"
      ]
     },
     "execution_count": 95,
     "metadata": {},
     "output_type": "execute_result"
    },
    {
     "name": "stdout",
     "output_type": "stream",
     "text": [
      "ssh: Could not resolve hostname muse: nodename nor servname provided, or not known\n",
      "PING 52.158.238.181 (52.158.238.181): 56 data bytes\n",
      "Request timeout for icmp_seq 0\n",
      "Request timeout for icmp_seq 1\n",
      "Request timeout for icmp_seq 2\n",
      "Request timeout for icmp_seq 3\n",
      "\n",
      "--- 52.158.238.181 ping statistics ---\n",
      "5 packets transmitted, 0 packets received, 100.0% packet loss\n"
     ]
    }
   ],
   "source": [
    "muse.ping()\n",
    "muse.connect_test()"
   ]
  },
  {
   "cell_type": "code",
   "execution_count": 96,
   "metadata": {},
   "outputs": [],
   "source": [
    "reedbush = Host(\"reedbush\",\"reedbush.cc.u-tokyo.ac.jp\",key=\"~/.ssh/id_rsa_com\",user=\"i96005\")"
   ]
  },
  {
   "cell_type": "code",
   "execution_count": 97,
   "metadata": {},
   "outputs": [
    {
     "name": "stdout",
     "output_type": "stream",
     "text": [
      "Error copying /Users/peterbryzgalov/work/ML/mlframework/mlframe/scripts/test.sh to reedbush 1\n",
      "\n",
      "! Warning: Permanently added 'reedbush.cc.u-tokyo.ac.jp,130.69.241.14' (ECDSA) to the list of known hosts.\r\n",
      "Connection closed by 130.69.241.14 port 22\r\n",
      "lost connection\n",
      "\n"
     ]
    },
    {
     "data": {
      "text/plain": [
       "-1"
      ]
     },
     "execution_count": 97,
     "metadata": {},
     "output_type": "execute_result"
    }
   ],
   "source": [
    "reedbush.execute(\"test.sh\")"
   ]
  },
  {
   "cell_type": "code",
   "execution_count": 98,
   "metadata": {},
   "outputs": [
    {
     "data": {
      "text/plain": [
       "0"
      ]
     },
     "execution_count": 98,
     "metadata": {},
     "output_type": "execute_result"
    },
    {
     "name": "stdout",
     "output_type": "stream",
     "text": [
      "PING reedbush.cc.u-tokyo.ac.jp (130.69.241.14): 56 data bytes\n",
      "64 bytes from 130.69.241.14: icmp_seq=0 ttl=56 time=32.878 ms\n",
      "64 bytes from 130.69.241.14: icmp_seq=1 ttl=56 time=11.704 ms\n",
      "64 bytes from 130.69.241.14: icmp_seq=2 ttl=56 time=23.768 ms\n",
      "\n",
      "--- reedbush.cc.u-tokyo.ac.jp ping statistics ---\n",
      "3 packets transmitted, 3 packets received, 0.0% packet loss\n",
      "round-trip min/avg/max/stddev = 11.704/22.783/32.878/8.672 ms\n"
     ]
    }
   ],
   "source": [
    "reedbush.ping(3)"
   ]
  },
  {
   "cell_type": "code",
   "execution_count": null,
   "metadata": {},
   "outputs": [],
   "source": []
  }
 ],
 "metadata": {
  "kernelspec": {
   "display_name": "Python 2",
   "language": "python",
   "name": "python2"
  },
  "language_info": {
   "codemirror_mode": {
    "name": "ipython",
    "version": 2
   },
   "file_extension": ".py",
   "mimetype": "text/x-python",
   "name": "python",
   "nbconvert_exporter": "python",
   "pygments_lexer": "ipython2",
   "version": "2.7.12"
  }
 },
 "nbformat": 4,
 "nbformat_minor": 2
}
