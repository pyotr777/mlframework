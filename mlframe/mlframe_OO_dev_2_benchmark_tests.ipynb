{
 "cells": [
  {
   "cell_type": "markdown",
   "metadata": {},
   "source": [
    "# Use this notebook for developing mlframe prototype 2\n",
    "\n",
    "## Object-oriented approach. Testing on DL with benchmarks."
   ]
  },
  {
   "cell_type": "code",
   "execution_count": 1,
   "metadata": {},
   "outputs": [],
   "source": [
    "import multiprocessing\n",
    "from Queue import Queue, Empty\n",
    "import subprocess\n",
    "import os\n",
    "import time\n",
    "import re\n",
    "import sys"
   ]
  },
  {
   "cell_type": "code",
   "execution_count": 2,
   "metadata": {},
   "outputs": [],
   "source": [
    "def printObj(obj):\n",
    "    for key,val in obj.__dict__.iteritems():\n",
    "        print key,\"=\",val"
   ]
  },
  {
   "cell_type": "code",
   "execution_count": 95,
   "metadata": {},
   "outputs": [],
   "source": [
    "# Class for executing local and remote commands in background processes.\n",
    "# Command must be in multiprocessing.Manager.dict().\n",
    "# Command must be a string with the command and arguments separated with spaces.\n",
    "# Should be called from BashExecutor class.\n",
    "# Usage sample: \n",
    "# d = BashExecutor(command,hostname=hostname)\n",
    "# d.start()\n",
    "#  command - string representation of the command and arguments.\n",
    "# exec_remote.sh must output subprocess exit code in the form:\n",
    "# exitcode=N\n",
    "# , where N is the number.\n",
    "class BackgroundExecutor(multiprocessing.Process):\n",
    "    \n",
    "    def __init__(self, d = {}, debug=False, hostname=\"\"):\n",
    "        super(BackgroundExecutor,self).__init__()\n",
    "        self.debug = debug\n",
    "        self.hostname = hostname\n",
    "        self.exitcode_pat = re.compile(\"^exitcode=(\\d+)\")\n",
    "        self.d = d\n",
    "        self.command = d[\"command\"].split(\" \")\n",
    "        if debug:\n",
    "            print \"In \",self.name,\" command='\",self.command,\"'\"\n",
    "        \n",
    "        \n",
    "    # Poll exit code of self.proc and store it if not None.\n",
    "    def poll(self):\n",
    "        exitcode = self.proc.poll()\n",
    "        if exitcode is not None:\n",
    "            self.setExitCode(exitcode)\n",
    "        return exitcode\n",
    "    \n",
    "    # Set given exit code to Command class object.\n",
    "    # Called from poll() method.\n",
    "    def setExitCode(self, ec):\n",
    "#         if self.debug:\n",
    "#             print \"Manager.dict object:\",repr(self.d)\n",
    "#             print type(self.d)\n",
    "#             printObj(self.d)\n",
    "        if self.d[\"exitcode\"] == \"\":\n",
    "            #if self.debug: print \"setting exit code to\",ec,\n",
    "            self.d[\"exitcode\"] = ec                        \n",
    "        \n",
    "            \n",
    "    def run(self):\n",
    "        if self.debug: \n",
    "            print \"In {}. Calling {}\".format(self.name,self.command)\n",
    "            \n",
    "        command = self.command\n",
    "        proc = subprocess.Popen(command, stdout=subprocess.PIPE, stderr=subprocess.STDOUT, bufsize=1, shell=False)\n",
    "        self.proc = proc\n",
    "        if self.debug: print self.name, \"process started\"\n",
    "        std = \"\"\n",
    "        for std in iter(proc.stdout.readline, b''):\n",
    "            if std is not None and len(std) > 0:\n",
    "                self.d[\"stdout\"] = self.d[\"stdout\"] + std\n",
    "                if self.debug:\n",
    "                    self.d[1]=1                    \n",
    "                    assert self.d[1] ==1, \"Cannot set to Manager dictionary\"\n",
    "                print std,\n",
    "            \n",
    "            time.sleep(.5)\n",
    "        print \"Exit code:\",self.poll()\n",
    "    \n",
    "    def nameYourself(self):\n",
    "        cp = multiprocessing.current_process()\n",
    "        print \"name\",cp._name\n",
    "        print \"parent pid\",cp._parent_pid\n",
    "        print \"id\",cp._identity\n",
    "    \n",
    "    def getExitcode(self):\n",
    "        return self.d[\"exitcode\"]\n",
    "            "
   ]
  },
  {
   "cell_type": "code",
   "execution_count": 96,
   "metadata": {},
   "outputs": [],
   "source": [
    "# Class for calling BackgroundExecutor with multiprocessing.Manager.dict object,\n",
    "# which stores string representation of the command, and after execution: its ouptput and exit code.\n",
    "class BashExecutor:\n",
    "    def __init__(self, command, debug=False):\n",
    "        manager = multiprocessing.Manager()\n",
    "        self.d = manager.dict()\n",
    "        self.d[\"command\"] = command\n",
    "        if debug:\n",
    "            print \"In BashExecutor:\"\n",
    "            print \"Command set to '\",self.d[\"command\"],\"'\"\n",
    "            print \"command type:\",type(self.d[\"command\"])\n",
    "        self.d[\"stdout\"] = \"\"\n",
    "        self.d[\"exitcode\"] = \"\"\n",
    "        self.debug = debug\n",
    "        self.BE = BackgroundExecutor(self.d, self.debug)\n",
    "        \n",
    "    def start(self):\n",
    "        self.BE.start()\n",
    "        \n",
    "    def getExitcode(self):        \n",
    "        return self.d[\"exitcode\"]\n",
    "    \n",
    "    def getStdout(self):\n",
    "        return self.d[\"stdout\"]\n",
    "    \n",
    "    def getCommand(self):\n",
    "        return self.d[\"command\"]\n",
    "        \n",
    "    def __str__(self):\n",
    "        s = self.d[\"command\"]\n",
    "        if self.d[\"exitcode\"] != \"\":\n",
    "            s += \" (\"+str(self.d[\"exitcode\"])+\")\"            \n",
    "        return s\n",
    "    \n",
    "    def __repr__(self):\n",
    "        s = self.d[\"command\"]\n",
    "        if self.d[\"exitcode\"] != \"\":\n",
    "            s += \" (\"+str(self.d[\"exitcode\"])+\")\"            \n",
    "        return s\n",
    "        "
   ]
  },
  {
   "cell_type": "code",
   "execution_count": 119,
   "metadata": {},
   "outputs": [],
   "source": [
    "# Class for storing host-related data: hostname, access key and username.\n",
    "# Stores commands (instances of Command class) executed on the host.\n",
    "# Has methods for connecting to the host with ssh, connection test, executing commands.\n",
    "class Host(object):\n",
    "    \n",
    "    def __init__(self, hostname, address=\"localhost\", user=\"\", key=\"\", debug=False, ssh_options=\"\", scp_options=\"\"):\n",
    "        self.hostname = hostname\n",
    "        self.address = address\n",
    "        self.user = user\n",
    "        key = key.replace(\"~\",os.environ['HOME'])\n",
    "        self.key = key\n",
    "        self.debug = debug\n",
    "        self.ssh_command = \"ssh\"\n",
    "        self.scp_command = \"scp\"\n",
    "        if key != \"\":\n",
    "            self.ssh_command += \" -i \"+key\n",
    "            self.scp_command += \" -i \"+key\n",
    "        if ssh_options != \"\":\n",
    "            self.ssh_command += \" -o \"+ssh_options\n",
    "        if scp_options != \"\":\n",
    "            self.scp_command += \" -o \"+scp_options\n",
    "\n",
    "        self.host=\"\"\n",
    "        if user != \"\":\n",
    "            self.host += user+\"@\"\n",
    "        self.host += address\n",
    "        self.commands = []\n",
    "        if debug:\n",
    "            print \"hostname,address,user,key:\",self.hostname,self.address,self.user,self.key\n",
    "            print \"ssh command:\",self.ssh_command.replace(' ','.'),\"host:\",self.host\n",
    "        \n",
    "    def ping(self, N=5):        \n",
    "        comm = BashExecutor(\"ping -c \"+str(N)+\" \"+self.address, debug=self.debug)\n",
    "        #print \"Append:\",self.commands.append(comm)\n",
    "        index = len(self.commands)\n",
    "        self.commands.append(comm)\n",
    "        comm.start()        \n",
    "        return index\n",
    "        \n",
    "    \n",
    "    # Execute command on the server\n",
    "    # If command is a script file, copy the file before executing it.\n",
    "    def execute(self,command,options=\"\"):\n",
    "        # Deside if command is a script name or just a command\n",
    "        package_directory = os.path.dirname(os.getcwd())\n",
    "        scripts_location=os.path.realpath(os.path.join(package_directory,\"mlframe\",\"scripts\"))\n",
    "        command_list = command.split(\" \")\n",
    "        command_file = command_list[0]\n",
    "        command_script_path = os.path.join(scripts_location, command_file)        \n",
    "        if os.path.isfile(command_script_path):\n",
    "            if self.debug: print \"script file exists:\",command_script_path\n",
    "            # Joined command: execute remote script file and delete it\n",
    "            command = \"./\"+command + \" && rm \"+command\n",
    "            if self.copyScriptFile(command_script_path) != 0:\n",
    "                # Error copying script file\n",
    "                return -1\n",
    "        if self.debug: print \"Command:\",command\n",
    "        \n",
    "        if options != \"\":\n",
    "            options = \" \"+options\n",
    "        command = self.ssh_command+options+\" \"+self.host+\" \"+command\n",
    "        if self.debug:\n",
    "            print \"Executing:\",command.replace(' ','.')\n",
    "        \n",
    "        comm = BashExecutor(command, debug=self.debug)\n",
    "        index = len(self.commands)\n",
    "        self.commands.append(comm)\n",
    "        comm.start()        \n",
    "        return index\n",
    "    \n",
    "    \n",
    "    # Copy script file to the host.\n",
    "    # Called every time before remote script execution.\n",
    "    def copyScriptFile(self, script_file, options=\"\"):\n",
    "        command = self.scp_command\n",
    "        if options != 0:\n",
    "            command += \" \"+options\n",
    "        command += script_file + \" \"+self.host+\":\"\n",
    "        if self.debug: print \"Copy command:\",command\n",
    "        proc = subprocess.Popen(command.split(\" \"), stdout=subprocess.PIPE, stderr=subprocess.STDOUT, bufsize=1, shell=False)\n",
    "        std,stderr = proc.communicate()\n",
    "        exitcode = proc.poll()\n",
    "        if exitcode != 0:        \n",
    "            print \"Error copying\",script_file,\"to\",self.hostname,exitcode\n",
    "            print std\n",
    "            print \"!\",stderr\n",
    "            \n",
    "        return exitcode\n",
    "    \n",
    "    def connect_test(self):\n",
    "        options = \"-o ConnectTimeout=5\"\n",
    "        return self.execute(\"hostname\",options=options)\n",
    "        "
   ]
  },
  {
   "cell_type": "code",
   "execution_count": 120,
   "metadata": {},
   "outputs": [
    {
     "name": "stdout",
     "output_type": "stream",
     "text": [
      "hostname,address,user,key: DL DL  \n",
      "ssh command: ssh host: DL\n"
     ]
    }
   ],
   "source": [
    "dl_serv = Host(\"DL\",\"DL\",debug=True)"
   ]
  },
  {
   "cell_type": "code",
   "execution_count": 121,
   "metadata": {},
   "outputs": [
    {
     "name": "stdout",
     "output_type": "stream",
     "text": [
      "script file exists: /Users/peterbryzgalov/work/ML/mlframework/mlframe/scripts/test.sh\n",
      "Copy command: scp /Users/peterbryzgalov/work/ML/mlframework/mlframe/scripts/test.sh DL:\n",
      "Command: ./test.sh && rm test.sh\n",
      "Executing: ssh.DL../test.sh.&&.rm.test.sh\n",
      "In BashExecutor:\n",
      "Command set to ' ssh DL ./test.sh && rm test.sh '\n",
      "command type: <type 'str'>\n",
      "In  BackgroundExecutor-100  command=' ['ssh', 'DL', './test.sh', '&&', 'rm', 'test.sh'] '\n"
     ]
    },
    {
     "data": {
      "text/plain": [
       "0"
      ]
     },
     "execution_count": 121,
     "metadata": {},
     "output_type": "execute_result"
    },
    {
     "name": "stdout",
     "output_type": "stream",
     "text": [
      "In BackgroundExecutor-100. Calling ['ssh', 'DL', './test.sh', '&&', 'rm', 'test.sh']\n",
      "BackgroundExecutor-100 process started\n",
      "Warning: Permanently added '192.168.12.116' (ECDSA) to the list of known hosts.\n",
      "Running test command on DL-Server pars: \n",
      "DL-Server():1\n",
      "():1\n",
      "DL-Server() err:1\n",
      "DL-Server():2\n",
      "():2\n",
      "DL-Server():3\n",
      "():3\n",
      "DL-Server() err:2\n",
      "DL-Server() err:3\n",
      "DL-Server():4\n",
      "():4\n",
      "DL-Server():5\n",
      "():5\n",
      "DL-Server() err:4\n",
      "DL-Server() err:5\n",
      "Exit code: 125\n"
     ]
    }
   ],
   "source": [
    "dl_serv.execute(\"test.sh\")"
   ]
  },
  {
   "cell_type": "code",
   "execution_count": 122,
   "metadata": {},
   "outputs": [
    {
     "name": "stdout",
     "output_type": "stream",
     "text": [
      "hostname,address,user,key: mouse mouse.local peter /Users/peterbryzgalov/.ssh/id_rsa_com\n",
      "ssh command: ssh.-i./Users/peterbryzgalov/.ssh/id_rsa_com host: peter@mouse.local\n"
     ]
    }
   ],
   "source": [
    "key = \"~/.ssh/id_rsa_com\"\n",
    "mouse = Host(\"mouse\",\"mouse.local\",user=\"peter\",key=key,debug=True)"
   ]
  },
  {
   "cell_type": "code",
   "execution_count": 123,
   "metadata": {},
   "outputs": [
    {
     "name": "stdout",
     "output_type": "stream",
     "text": [
      "script file exists: /Users/peterbryzgalov/work/ML/mlframework/mlframe/scripts/test.sh\n",
      "Copy command: scp -i /Users/peterbryzgalov/.ssh/id_rsa_com /Users/peterbryzgalov/work/ML/mlframework/mlframe/scripts/test.sh peter@mouse.local:\n",
      "Command: ./test.sh && rm test.sh\n",
      "Executing: ssh.-i./Users/peterbryzgalov/.ssh/id_rsa_com.peter@mouse.local../test.sh.&&.rm.test.sh\n",
      "In BashExecutor:\n",
      "Command set to ' ssh -i /Users/peterbryzgalov/.ssh/id_rsa_com peter@mouse.local ./test.sh && rm test.sh '\n",
      "command type: <type 'str'>\n",
      "In  BackgroundExecutor-102  command=' ['ssh', '-i', '/Users/peterbryzgalov/.ssh/id_rsa_com', 'peter@mouse.local', './test.sh', '&&', 'rm', 'test.sh'] '\n"
     ]
    },
    {
     "data": {
      "text/plain": [
       "0"
      ]
     },
     "execution_count": 123,
     "metadata": {},
     "output_type": "execute_result"
    },
    {
     "name": "stdout",
     "output_type": "stream",
     "text": [
      "In BackgroundExecutor-102. Calling ['ssh', '-i', '/Users/peterbryzgalov/.ssh/id_rsa_com', 'peter@mouse.local', './test.sh', '&&', 'rm', 'test.sh']\n",
      "BackgroundExecutor-102 process started\n",
      "Warning: Permanently added 'mouse.local,fe80::e27:b843:c6d6:6e6f%en1' (ECDSA) to the list of known hosts.\n",
      "Running test command on mouse pars: \n",
      "mouse():1\n",
      "():1\n",
      "mouse() err:1\n",
      "mouse():2\n",
      "():2\n",
      "mouse() err:2\n",
      "mouse():3\n",
      "():3\n",
      "mouse():4\n",
      "():4\n",
      "mouse() err:3\n",
      "mouse() err:4\n",
      "mouse():5\n",
      "():5\n",
      "mouse() err:5\n",
      "Exit code: 125\n"
     ]
    }
   ],
   "source": [
    "mouse.execute(\"test.sh\")"
   ]
  },
  {
   "cell_type": "code",
   "execution_count": 71,
   "metadata": {
    "scrolled": true
   },
   "outputs": [
    {
     "name": "stdout",
     "output_type": "stream",
     "text": [
      "Test if script file exists in scripts directory /Users/peterbryzgalov/work/ML/mlframework/mlframe/scripts/hostname\n",
      "Command: hostname\n",
      "Executing: ssh.-o.ConnectTimeout=5.DL.hostname\n",
      "In BashExecutor:\n",
      "Command set to ' ssh -o ConnectTimeout=5 DL hostname '\n",
      "command type: <type 'str'>\n",
      "In  BackgroundExecutor-78  command=' ['ssh', '-o', 'ConnectTimeout=5', 'DL', 'hostname'] '\n"
     ]
    },
    {
     "data": {
      "text/plain": [
       "0"
      ]
     },
     "execution_count": 71,
     "metadata": {},
     "output_type": "execute_result"
    },
    {
     "name": "stdout",
     "output_type": "stream",
     "text": [
      "In BackgroundExecutor-78. Calling ['ssh', '-o', 'ConnectTimeout=5', 'DL', 'hostname']\n",
      "BackgroundExecutor-78 process started\n",
      "Warning: Permanently added '192.168.12.116' (ECDSA) to the list of known hosts.\n",
      "DL-Server\n",
      "Exit code: setting exit code to 0 0\n"
     ]
    }
   ],
   "source": [
    "dl_serv.connect_test()"
   ]
  },
  {
   "cell_type": "code",
   "execution_count": 76,
   "metadata": {},
   "outputs": [
    {
     "name": "stdout",
     "output_type": "stream",
     "text": [
      "Test if script file exists in scripts directory /Users/peterbryzgalov/work/ML/mlframework/mlframe/scripts/nvidia-smi\n",
      "Command: nvidia-smi dmon -c 2 -s u\n",
      "Executing: ssh.DL.nvidia-smi.dmon.-c.2.-s.u\n",
      "In BashExecutor:\n",
      "Command set to ' ssh DL nvidia-smi dmon -c 2 -s u '\n",
      "command type: <type 'str'>\n",
      "In  BackgroundExecutor-82  command=' ['ssh', 'DL', 'nvidia-smi', 'dmon', '-c', '2', '-s', 'u'] '\n"
     ]
    },
    {
     "data": {
      "text/plain": [
       "0"
      ]
     },
     "execution_count": 76,
     "metadata": {},
     "output_type": "execute_result"
    },
    {
     "name": "stdout",
     "output_type": "stream",
     "text": [
      "In BackgroundExecutor-82. Calling ['ssh', 'DL', 'nvidia-smi', 'dmon', '-c', '2', '-s', 'u']\n",
      "BackgroundExecutor-82 process started\n",
      "Warning: Permanently added '192.168.12.116' (ECDSA) to the list of known hosts.\n",
      "# gpu    sm   mem   enc   dec\n",
      "# Idx     %     %     %     %\n",
      "    0    99    31     0     0\n",
      "    1    99    32     0     0\n",
      "    2    99    41     0     0\n",
      "    3    99    32     0     0\n",
      "    4    99    30     0     0\n",
      "    5    99    37     0     0\n",
      "    6    99    42     0     0\n",
      "    7    99    33     0     0\n",
      "    0    99    31     0     0\n",
      "    1   100    26     0     0\n",
      "    2    99    35     0     0\n",
      "    3   100    31     0     0\n",
      "    4   100    26     0     0\n",
      "    5    99    28     0     0\n",
      "    6    99    30     0     0\n",
      "    7    99    39     0     0\n",
      "Exit code: setting exit code to 0 0\n"
     ]
    }
   ],
   "source": [
    "dl_serv.execute(\"nvidia-smi dmon -c 2 -s u\")"
   ]
  },
  {
   "cell_type": "code",
   "execution_count": 56,
   "metadata": {},
   "outputs": [
    {
     "name": "stdout",
     "output_type": "stream",
     "text": [
      "PING mouse.local (192.168.83.30): 56 data bytes\n",
      "Warning: Permanently added 'mouse.local,192.168.83.30' (ECDSA) to the list of known hosts.\n",
      "Warning: Permanently added 'mouse.local,fe80::e27:b843:c6d6:6e6f%en1' (ECDSA) to the list of known hosts.\n",
      "64 bytes from 192.168.83.30: icmp_seq=0 ttl=64 time=0.698 ms\n",
      "mouse\n",
      "mouse\n",
      "\n",
      "Fri Mar 23 12:17:31 JST 2018\n",
      "Exit code: 0\n",
      "--- mouse.local ping statistics ---\n",
      "Exit code: 0\n",
      "1 packets transmitted, 1 packets received, 0.0% packet loss\n",
      "round-trip min/avg/max/stddev = 0.698/0.698/0.698/0.000 ms\n",
      "Exit code: 0\n"
     ]
    }
   ],
   "source": [
    "test = mouse.ping(1)\n",
    "test = mouse.connect_test()\n",
    "test = mouse.execute(\"hostname && date\")"
   ]
  },
  {
   "cell_type": "code",
   "execution_count": 57,
   "metadata": {},
   "outputs": [
    {
     "name": "stdout",
     "output_type": "stream",
     "text": [
      "2\n",
      "ssh -i /Users/peterbryzgalov/.ssh/id_rsa_com peter@mouse.local hostname && date\n",
      "Warning: Permanently added 'mouse.local,192.168.83.30' (ECDSA) to the list of known hosts.\r\n",
      "mouse\n",
      "Fri Mar 23 12:17:31 JST 2018\n",
      "\n",
      "0\n"
     ]
    }
   ],
   "source": [
    "print test\n",
    "i=test\n",
    "print mouse.commands[i].getCommand()\n",
    "print mouse.commands[i].getStdout()\n",
    "print mouse.commands[i].getExitcode()"
   ]
  },
  {
   "cell_type": "code",
   "execution_count": 58,
   "metadata": {},
   "outputs": [
    {
     "name": "stdout",
     "output_type": "stream",
     "text": [
      "[ping -c 1 mouse.local (0), ssh -i /Users/peterbryzgalov/.ssh/id_rsa_com -o ConnectTimeout=5 peter@mouse.local hostname (0), ssh -i /Users/peterbryzgalov/.ssh/id_rsa_com peter@mouse.local hostname && date (0)]\n"
     ]
    }
   ],
   "source": [
    "print mouse.commands"
   ]
  },
  {
   "cell_type": "code",
   "execution_count": 61,
   "metadata": {},
   "outputs": [],
   "source": [
    "# Execute command on remote (or local) host in background, using exec_remote.sh and BashExecutor instance.\n",
    "# Command can be any command or executable file name.\n",
    "# Arguments must be in a string separated with spaces.\n",
    "def RemoteExec(host, command_and_args, debug=False):    \n",
    "    if debug: print \"RemoteExec commands and args:\",command_and_args\n",
    "    CA = command_and_args.split(\" \")\n",
    "    if debug: print CA\n",
    "    command = CA[0]\n",
    "    args = CA[1:]\n",
    "    if debug: print \"Command:\",command\n",
    "    if debug: print \"Args:\",args\n",
    "    package_directory = os.path.dirname(os.getcwd())\n",
    "    scripts_location=os.path.realpath(os.path.join(package_directory,\"mlframe\",\"scripts\"))\n",
    "    exec_remote_script=\"exec_remote.sh\"\n",
    "    script_path = os.path.join(scripts_location,exec_remote_script)\n",
    "    \n",
    "    # Merge args into a string\n",
    "    command_script_path = os.path.join(scripts_location, command)\n",
    "    if debug: print \"Test if script file exists in RemoteExec\",command_script_path\n",
    "    if os.path.isfile(command_script_path):\n",
    "        command = command_script_path\n",
    "    if debug: print \"Command:\",command\n",
    "          \n",
    "    if host == \"\" or host == \"localhost\" or host == \"127.0.07\":\n",
    "        command_args_list = [command] + args\n",
    "    else:\n",
    "        command_args_list = [script_path] + [host] + [command] + args\n",
    "    if debug: print \"Calling BashExecutor with args\",command_args_list\n",
    "    d = BashExecutor(command_args_list, hostname=host, debug=debug)\n",
    "    d.start()\n",
    "\n",
    "    #for d in jobs:\n",
    "    #    d.join()\n",
    "    \n",
    "    if debug: print \"finished\",host,command"
   ]
  },
  {
   "cell_type": "code",
   "execution_count": null,
   "metadata": {},
   "outputs": [],
   "source": [
    "muse = Host(\"muse\",\"52.158.238.181\", user=\"ubuntu\", key=key,debug=False)"
   ]
  },
  {
   "cell_type": "code",
   "execution_count": null,
   "metadata": {},
   "outputs": [],
   "source": [
    "muse.ping()\n",
    "muse.connect_test()"
   ]
  },
  {
   "cell_type": "code",
   "execution_count": 59,
   "metadata": {},
   "outputs": [],
   "source": [
    "reedbush = Host(\"reedbush\",\"reedbush.cc.u-tokyo.ac.jp\",key=\"~/.ssh/id_rsa_com\",user=\"i96005\")"
   ]
  },
  {
   "cell_type": "code",
   "execution_count": 60,
   "metadata": {},
   "outputs": [
    {
     "data": {
      "text/plain": [
       "0"
      ]
     },
     "execution_count": 60,
     "metadata": {},
     "output_type": "execute_result"
    },
    {
     "name": "stdout",
     "output_type": "stream",
     "text": [
      "Warning: Permanently added 'reedbush.cc.u-tokyo.ac.jp,130.69.241.14' (ECDSA) to the list of known hosts.\n",
      "bash: test.sh: command not found\n",
      "Exit code: 127\n"
     ]
    }
   ],
   "source": [
    "reedbush.execute(\"test.sh\")"
   ]
  },
  {
   "cell_type": "code",
   "execution_count": 62,
   "metadata": {},
   "outputs": [
    {
     "name": "stdout",
     "output_type": "stream",
     "text": [
      "RemoteExec commands and args: test.sh\n",
      "['test.sh']\n",
      "Command: test.sh\n",
      "Args: []\n",
      "Test if script file exists in RemoteExec /Users/peterbryzgalov/work/ML/mlframework/mlframe/scripts/test.sh\n",
      "Command: /Users/peterbryzgalov/work/ML/mlframework/mlframe/scripts/test.sh\n",
      "Calling BashExecutor with args ['/Users/peterbryzgalov/work/ML/mlframework/mlframe/scripts/exec_remote.sh', <__main__.Host object at 0x1083a9750>, '/Users/peterbryzgalov/work/ML/mlframework/mlframe/scripts/test.sh']\n"
     ]
    },
    {
     "ename": "TypeError",
     "evalue": "__init__() got an unexpected keyword argument 'hostname'",
     "output_type": "error",
     "traceback": [
      "\u001b[0;31m---------------------------------------------------------------------------\u001b[0m",
      "\u001b[0;31mTypeError\u001b[0m                                 Traceback (most recent call last)",
      "\u001b[0;32m<ipython-input-62-4b9513700e87>\u001b[0m in \u001b[0;36m<module>\u001b[0;34m()\u001b[0m\n\u001b[0;32m----> 1\u001b[0;31m \u001b[0mRemoteExec\u001b[0m\u001b[0;34m(\u001b[0m\u001b[0mreedbush\u001b[0m\u001b[0;34m,\u001b[0m\u001b[0;34m\"test.sh\"\u001b[0m\u001b[0;34m,\u001b[0m\u001b[0mdebug\u001b[0m\u001b[0;34m=\u001b[0m\u001b[0mTrue\u001b[0m\u001b[0;34m)\u001b[0m\u001b[0;34m\u001b[0m\u001b[0m\n\u001b[0m",
      "\u001b[0;32m<ipython-input-61-7c0dcab0d8a3>\u001b[0m in \u001b[0;36mRemoteExec\u001b[0;34m(host, command_and_args, debug)\u001b[0m\n\u001b[1;32m     27\u001b[0m         \u001b[0mcommand_args_list\u001b[0m \u001b[0;34m=\u001b[0m \u001b[0;34m[\u001b[0m\u001b[0mscript_path\u001b[0m\u001b[0;34m]\u001b[0m \u001b[0;34m+\u001b[0m \u001b[0;34m[\u001b[0m\u001b[0mhost\u001b[0m\u001b[0;34m]\u001b[0m \u001b[0;34m+\u001b[0m \u001b[0;34m[\u001b[0m\u001b[0mcommand\u001b[0m\u001b[0;34m]\u001b[0m \u001b[0;34m+\u001b[0m \u001b[0margs\u001b[0m\u001b[0;34m\u001b[0m\u001b[0m\n\u001b[1;32m     28\u001b[0m     \u001b[0;32mif\u001b[0m \u001b[0mdebug\u001b[0m\u001b[0;34m:\u001b[0m \u001b[0;32mprint\u001b[0m \u001b[0;34m\"Calling BashExecutor with args\"\u001b[0m\u001b[0;34m,\u001b[0m\u001b[0mcommand_args_list\u001b[0m\u001b[0;34m\u001b[0m\u001b[0m\n\u001b[0;32m---> 29\u001b[0;31m     \u001b[0md\u001b[0m \u001b[0;34m=\u001b[0m \u001b[0mBashExecutor\u001b[0m\u001b[0;34m(\u001b[0m\u001b[0mcommand_args_list\u001b[0m\u001b[0;34m,\u001b[0m \u001b[0mhostname\u001b[0m\u001b[0;34m=\u001b[0m\u001b[0mhost\u001b[0m\u001b[0;34m,\u001b[0m \u001b[0mdebug\u001b[0m\u001b[0;34m=\u001b[0m\u001b[0mdebug\u001b[0m\u001b[0;34m)\u001b[0m\u001b[0;34m\u001b[0m\u001b[0m\n\u001b[0m\u001b[1;32m     30\u001b[0m     \u001b[0md\u001b[0m\u001b[0;34m.\u001b[0m\u001b[0mstart\u001b[0m\u001b[0;34m(\u001b[0m\u001b[0;34m)\u001b[0m\u001b[0;34m\u001b[0m\u001b[0m\n\u001b[1;32m     31\u001b[0m \u001b[0;34m\u001b[0m\u001b[0m\n",
      "\u001b[0;31mTypeError\u001b[0m: __init__() got an unexpected keyword argument 'hostname'"
     ]
    }
   ],
   "source": [
    "RemoteExec(reedbush,\"test.sh\",debug=True)"
   ]
  },
  {
   "cell_type": "code",
   "execution_count": null,
   "metadata": {},
   "outputs": [],
   "source": []
  }
 ],
 "metadata": {
  "kernelspec": {
   "display_name": "Python 2",
   "language": "python",
   "name": "python2"
  },
  "language_info": {
   "codemirror_mode": {
    "name": "ipython",
    "version": 2
   },
   "file_extension": ".py",
   "mimetype": "text/x-python",
   "name": "python",
   "nbconvert_exporter": "python",
   "pygments_lexer": "ipython2",
   "version": "2.7.11"
  }
 },
 "nbformat": 4,
 "nbformat_minor": 2
}
