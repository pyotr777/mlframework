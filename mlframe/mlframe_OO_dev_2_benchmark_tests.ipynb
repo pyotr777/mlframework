{
 "cells": [
  {
   "cell_type": "markdown",
   "metadata": {},
   "source": [
    "# Use this notebook for developing mlframe prototype 2\n",
    "\n",
    "## Object-oriented approach. Testing on DL with benchmarks."
   ]
  },
  {
   "cell_type": "code",
   "execution_count": 1,
   "metadata": {},
   "outputs": [],
   "source": [
    "import multiprocessing\n",
    "from Queue import Queue, Empty\n",
    "import subprocess\n",
    "import os\n",
    "import time\n",
    "import re\n",
    "import sys"
   ]
  },
  {
   "cell_type": "code",
   "execution_count": 2,
   "metadata": {},
   "outputs": [],
   "source": [
    "def printObj(obj):\n",
    "    for key,val in obj.__dict__.iteritems():\n",
    "        print key,\"=\",val"
   ]
  },
  {
   "cell_type": "code",
   "execution_count": 3,
   "metadata": {},
   "outputs": [],
   "source": [
    "# Class for executing commands in background processes.\n",
    "# command_and_args should be an instance of class Command,\n",
    "# but can also be a list or a string with the command and arguments separated with spaces.\n",
    "# It can be used for executing remote processes in background. For that purpose exec_remote.sh should be used.\n",
    "# Usage sample: \n",
    "# d = BashExecutor(command,hostname=hostname)\n",
    "# d.start()\n",
    "# exec_remote.sh must output subprocess exit code in the form:\n",
    "# exitcode=N\n",
    "# , where N is the number.\n",
    "class BackgroundExecutor(multiprocessing.Process):\n",
    "    \n",
    "    def __init__(self, d = {}, debug=False, hostname=\"\"):\n",
    "        super(BackgroundExecutor,self).__init__()\n",
    "        self.debug = debug\n",
    "        self.hostname = hostname\n",
    "        self.exitcode_pat = re.compile(\"^exitcode=(\\d+)\")\n",
    "        self.d = d\n",
    "        self.command = d[\"command\"].split(\" \")\n",
    "        if debug:\n",
    "            print \"In \",self.name,\" command='\",self.command,\"'\"\n",
    "        \n",
    "        \n",
    "    # Poll exit code of self.proc and store it if not None.\n",
    "    def poll(self):\n",
    "        exitcode = self.proc.poll()\n",
    "        if exitcode is not None:\n",
    "            self.setExitCode(exitcode)\n",
    "        return exitcode\n",
    "    \n",
    "    # Set given exit code to Command class object\n",
    "    def setExitCode(self, ec):\n",
    "#         if self.debug:\n",
    "#             print \"Manager.dict object:\",repr(self.d)\n",
    "#             print type(self.d)\n",
    "#             printObj(self.d)\n",
    "        if self.d[\"exitcode\"] == \"\":\n",
    "            if self.debug: print \"setting exit code to\",ec,\n",
    "            self.d[\"exitcode\"] = ec                        \n",
    "        \n",
    "            \n",
    "    def run(self):\n",
    "        if self.debug: \n",
    "            print \"In {}. Calling {}\".format(self.name,self.command)\n",
    "            \n",
    "        command = self.command\n",
    "        proc = subprocess.Popen(command, stdout=subprocess.PIPE, stderr=subprocess.STDOUT, bufsize=1, shell=False)\n",
    "        self.proc = proc\n",
    "        if self.debug: print self.name, \"process started\"\n",
    "        std = \"\"\n",
    "        for std in iter(proc.stdout.readline, b''):\n",
    "            if std is not None and len(std) > 0:\n",
    "                self.d[\"stdout\"] = self.d[\"stdout\"] + std\n",
    "                if self.debug:\n",
    "                    self.d[1]=1                    \n",
    "                    assert self.d[1] ==1, \"Cannot set to Manager dictionary\"\n",
    "                print std,\n",
    "            \n",
    "            time.sleep(.5)\n",
    "        print \"Exit code:\",self.poll()\n",
    "    \n",
    "    def nameYourself(self):\n",
    "        cp = multiprocessing.current_process()\n",
    "        print \"name\",cp._name\n",
    "        print \"parent pid\",cp._parent_pid\n",
    "        print \"id\",cp._identity\n",
    "    \n",
    "    def getExitcode(self):\n",
    "        return self.d[\"exitcode\"]\n",
    "            "
   ]
  },
  {
   "cell_type": "code",
   "execution_count": 4,
   "metadata": {},
   "outputs": [],
   "source": [
    "class BashExecutor:\n",
    "    def __init__(self, command, debug=False):\n",
    "        manager = multiprocessing.Manager()\n",
    "        self.d = manager.dict()\n",
    "        self.d[\"command\"] = command\n",
    "        if debug:\n",
    "            print \"Command set to '\",self.d[\"command\"],\"'\"\n",
    "            print \"type:\",type(self.d[\"command\"])\n",
    "        self.d[\"stdout\"] = \"\"\n",
    "        self.d[\"exitcode\"] = \"\"\n",
    "        self.debug = debug\n",
    "        self.BE = BackgroundExecutor(self.d, self.debug)\n",
    "        \n",
    "    def start(self):\n",
    "        self.BE.start()\n",
    "        \n",
    "    def getExitcode(self):        \n",
    "        return self.d[\"exitcode\"]\n",
    "    \n",
    "    def getStdout(self):\n",
    "        return self.d[\"stdout\"]\n",
    "    \n",
    "    def getCommand(self):\n",
    "        return self.d[\"command\"]\n",
    "        \n",
    "        "
   ]
  },
  {
   "cell_type": "code",
   "execution_count": 21,
   "metadata": {},
   "outputs": [],
   "source": [
    "# Class for storing host-related data: hostname, access key and username.\n",
    "# Stores commands (instances of Command class) executed on the host.\n",
    "# Has methods for connecting to the host with ssh, connection test, executing commands.\n",
    "class Host(object):\n",
    "    \n",
    "    def __init__(self, hostname, address = \"localhost\", user = \"\", key = \"\",debug=False):\n",
    "        self.hostname = hostname\n",
    "        self.address = address\n",
    "        self.user = user\n",
    "        key = key.replace(\"~\",os.environ['HOME'])\n",
    "        self.key = key\n",
    "        self.debug = debug\n",
    "        self.ssh_command = \"ssh\"\n",
    "        if key != \"\":\n",
    "            self.ssh_command += \"-i \"+key\n",
    "        self.host=\"\"\n",
    "        if user != \"\":\n",
    "            self.host += user+\"@\"\n",
    "        self.host += address\n",
    "        self.commands = []\n",
    "        if debug:\n",
    "            print \"hostname,address,user,key:\",self.hostname,self.address,self.user,self.key\n",
    "            print \"ssh command:\",self.ssh_command.replace(' ','.'),\"host:\",self.host\n",
    "        \n",
    "    def ping(self, N=5):        \n",
    "        comm = BashExecutor(\"ping -c \"+str(N)+\" \"+self.address, debug=self.debug)\n",
    "        print \"Append:\",self.commands.append(comm)\n",
    "        index = len(self.commands)\n",
    "        self.commands.append(comm)\n",
    "        comm.start()        \n",
    "        return index\n",
    "        \n",
    "    \n",
    "    def execute(self,command,options=\"\"):\n",
    "        if options != \"\":\n",
    "            options = \" \"+options\n",
    "        command = self.ssh_command+options+\" \"+self.host+\" \"+command\n",
    "        #command = command.split(\" \")\n",
    "        if self.debug:\n",
    "            print \"Executing:\",command.replace(' ','.')\n",
    "        \n",
    "        comm = BashExecutor(command, debug=self.debug)\n",
    "        print \"Append:\",self.commands.append(comm)\n",
    "        index = len(self.commands)\n",
    "        self.commands.append(comm)\n",
    "        comm.start()        \n",
    "        return index\n",
    "            \n",
    "    \n",
    "    def connect_test(self):\n",
    "        options = \"-o ConnectTimeout=5\"\n",
    "        return self.execute(\"hostname\",options=options)\n",
    "        "
   ]
  },
  {
   "cell_type": "code",
   "execution_count": 22,
   "metadata": {},
   "outputs": [
    {
     "name": "stdout",
     "output_type": "stream",
     "text": [
      "hostname,address,user,key: DL DL  \n",
      "ssh command: ssh host: DL\n"
     ]
    }
   ],
   "source": [
    "dl_serv = Host(\"DL\",\"DL\",debug=True)"
   ]
  },
  {
   "cell_type": "code",
   "execution_count": 24,
   "metadata": {
    "scrolled": true
   },
   "outputs": [
    {
     "name": "stdout",
     "output_type": "stream",
     "text": [
      "Executing: ssh.-o.ConnectTimeout=5.DL.hostname\n",
      "Command set to ' ssh -o ConnectTimeout=5 DL hostname '\n",
      "type: <type 'str'>\n",
      "In  BackgroundExecutor-14  command=' ['ssh', '-o', 'ConnectTimeout=5', 'DL', 'hostname'] '\n",
      "Append: None\n"
     ]
    },
    {
     "data": {
      "text/plain": [
       "3"
      ]
     },
     "execution_count": 24,
     "metadata": {},
     "output_type": "execute_result"
    },
    {
     "name": "stdout",
     "output_type": "stream",
     "text": [
      "In BackgroundExecutor-14. Calling ['ssh', '-o', 'ConnectTimeout=5', 'DL', 'hostname']\n",
      "BackgroundExecutor-14 process started\n",
      "Warning: Permanently added '192.168.12.116' (ECDSA) to the list of known hosts.\n",
      "DL-Server\n",
      "Exit code: setting exit code to 0 0\n"
     ]
    }
   ],
   "source": [
    "dl_serv.connect_test()"
   ]
  },
  {
   "cell_type": "code",
   "execution_count": 25,
   "metadata": {},
   "outputs": [
    {
     "name": "stdout",
     "output_type": "stream",
     "text": [
      "Executing: ssh.DL.nvidia-smi.dmon.-c.2.-s.u\n",
      "Command set to ' ssh DL nvidia-smi dmon -c 2 -s u '\n",
      "type: <type 'str'>\n",
      "In  BackgroundExecutor-16  command=' ['ssh', 'DL', 'nvidia-smi', 'dmon', '-c', '2', '-s', 'u'] '\n",
      "Append: None\n"
     ]
    },
    {
     "data": {
      "text/plain": [
       "5"
      ]
     },
     "execution_count": 25,
     "metadata": {},
     "output_type": "execute_result"
    },
    {
     "name": "stdout",
     "output_type": "stream",
     "text": [
      "In BackgroundExecutor-16. Calling ['ssh', 'DL', 'nvidia-smi', 'dmon', '-c', '2', '-s', 'u']\n",
      "BackgroundExecutor-16 process started\n",
      "Warning: Permanently added '192.168.12.116' (ECDSA) to the list of known hosts.\n",
      "# gpu    sm   mem   enc   dec\n",
      "# Idx     %     %     %     %\n",
      "    0     0     0     0     0\n",
      "    1     0     0     0     0\n",
      "    2     0     0     0     0\n",
      "    3     0     0     0     0\n",
      "    4     0     0     0     0\n",
      "    5     0     0     0     0\n",
      "    6     0     0     0     0\n",
      "    7     0     0     0     0\n",
      "    0     0     0     0     0\n",
      "    1     0     0     0     0\n",
      "    2     0     0     0     0\n",
      "    3     0     0     0     0\n",
      "    4     0     0     0     0\n",
      "    5     0     0     0     0\n",
      "    6     0     0     0     0\n",
      "    7     0     0     0     0\n",
      "Exit code: setting exit code to 0 0\n"
     ]
    }
   ],
   "source": [
    "dl_serv.execute(\"nvidia-smi dmon -c 2 -s u\")"
   ]
  },
  {
   "cell_type": "code",
   "execution_count": 6,
   "metadata": {},
   "outputs": [
    {
     "name": "stdout",
     "output_type": "stream",
     "text": [
      "hostname,address,user,key: mouse mouse.local peter /Users/peterbryzgalov/.ssh/id_rsa_com\n",
      "ssh command: ssh -i /Users/peterbryzgalov/.ssh/id_rsa_com host: peter@mouse.local\n"
     ]
    }
   ],
   "source": [
    "key = \"~/.ssh/id_rsa_com\"\n",
    "mouse = Host(\"mouse\",\"mouse.local\",user=\"peter\",key=key,debug=True)"
   ]
  },
  {
   "cell_type": "code",
   "execution_count": 7,
   "metadata": {},
   "outputs": [
    {
     "name": "stdout",
     "output_type": "stream",
     "text": [
      "Executing: ssh -i /Users/peterbryzgalov/.ssh/id_rsa_com peter@mouse.local hostname && date\n",
      "Command set to ' ssh -i /Users/peterbryzgalov/.ssh/id_rsa_com peter@mouse.local hostname && date '\n",
      "type: <type 'str'>\n",
      "In  BackgroundExecutor-2  command=' ['ssh', '-i', '/Users/peterbryzgalov/.ssh/id_rsa_com', 'peter@mouse.local', 'hostname', '&&', 'date'] '\n",
      "Append: None\n",
      "In BackgroundExecutor-2. Calling ['ssh', '-i', '/Users/peterbryzgalov/.ssh/id_rsa_com', 'peter@mouse.local', 'hostname', '&&', 'date']\n",
      "BackgroundExecutor-2 process started\n",
      "Warning: Permanently added 'mouse.local,fe80::e27:b843:c6d6:6e6f%en1' (ECDSA) to the list of known hosts.\n",
      "mouse\n",
      "Wed Mar 14 09:50:12 JST 2018\n",
      "Exit code: setting exit code to 0 0\n"
     ]
    }
   ],
   "source": [
    "#test = mouse.ping(1)\n",
    "#test = mouse.connect_test()\n",
    "test = mouse.execute(\"hostname && date\")"
   ]
  },
  {
   "cell_type": "code",
   "execution_count": 9,
   "metadata": {},
   "outputs": [
    {
     "name": "stdout",
     "output_type": "stream",
     "text": [
      "1\n",
      "ssh -i /Users/peterbryzgalov/.ssh/id_rsa_com peter@mouse.local hostname && date\n",
      "Warning: Permanently added 'mouse.local,fe80::e27:b843:c6d6:6e6f%en1' (ECDSA) to the list of known hosts.\r\n",
      "mouse\n",
      "Wed Mar 14 09:50:12 JST 2018\n",
      "\n",
      "0\n"
     ]
    }
   ],
   "source": [
    "print test\n",
    "i=test\n",
    "print mouse.commands[i].getCommand()\n",
    "print mouse.commands[i].getStdout()\n",
    "print mouse.commands[i].getExitcode()"
   ]
  },
  {
   "cell_type": "code",
   "execution_count": 286,
   "metadata": {},
   "outputs": [],
   "source": [
    "# Execute command on remote (or local) host in background, using exec_remote.sh and BashExecutor instance.\n",
    "# Command can be any command or executable file name.\n",
    "# Arguments must be in a string separated with spaces.\n",
    "def RemoteExec(host, command_and_args, debug=False):    \n",
    "    if debug: print \"RemoteExec commands and args:\",command_and_args\n",
    "    CA = command_and_args.split(\" \")\n",
    "    if debug: print CA\n",
    "    command = CA[0]\n",
    "    args = CA[1:]\n",
    "    if debug: print \"Command:\",command\n",
    "    if debug: print \"Args:\",args\n",
    "    package_directory = os.path.dirname(os.getcwd())\n",
    "    scripts_location=os.path.realpath(os.path.join(package_directory,\"mlframe\",\"scripts\"))\n",
    "    exec_remote_script=\"exec_remote.sh\"\n",
    "    script_path = os.path.join(scripts_location,exec_remote_script)\n",
    "    \n",
    "    # Merge args into a string\n",
    "    command_script_path = os.path.join(scripts_location, command)\n",
    "    if debug: print \"Test if script file exists in RemoteExec\",command_script_path\n",
    "    if os.path.isfile(command_script_path):\n",
    "        command = command_script_path\n",
    "    if debug: print \"Command:\",command\n",
    "          \n",
    "    if host == \"\" or host == \"localhost\" or host == \"127.0.07\":\n",
    "        command_args_list = [command] + args\n",
    "    else:\n",
    "        command_args_list = [script_path] + [host] + [command] + args\n",
    "    if debug: print \"Calling BashExecutor with args\",command_args_list\n",
    "    d = BashExecutor(command_args_list, hostname=host, debug=debug)\n",
    "    d.start()\n",
    "\n",
    "    #for d in jobs:\n",
    "    #    d.join()\n",
    "    \n",
    "    if debug: print \"finished\",host,command"
   ]
  },
  {
   "cell_type": "code",
   "execution_count": null,
   "metadata": {},
   "outputs": [],
   "source": [
    "muse = Host(\"muse\",\"52.158.238.181\", user=\"ubuntu\", key=key,debug=False)"
   ]
  },
  {
   "cell_type": "code",
   "execution_count": null,
   "metadata": {},
   "outputs": [],
   "source": [
    "muse.ping()\n",
    "muse.connect_test()"
   ]
  },
  {
   "cell_type": "code",
   "execution_count": null,
   "metadata": {},
   "outputs": [],
   "source": [
    "reedbush = Host(\"reedbush\",\"reedbush.cc.u-tokyo.ac.jp\","
   ]
  }
 ],
 "metadata": {
  "kernelspec": {
   "display_name": "Python 2",
   "language": "python",
   "name": "python2"
  },
  "language_info": {
   "codemirror_mode": {
    "name": "ipython",
    "version": 2
   },
   "file_extension": ".py",
   "mimetype": "text/x-python",
   "name": "python",
   "nbconvert_exporter": "python",
   "pygments_lexer": "ipython2",
   "version": "2.7.11"
  }
 },
 "nbformat": 4,
 "nbformat_minor": 2
}
