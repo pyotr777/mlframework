{
 "cells": [
  {
   "cell_type": "code",
   "execution_count": 2,
   "metadata": {
    "collapsed": true
   },
   "outputs": [],
   "source": [
    "import multiprocessing\n",
    "from Queue import Queue, Empty\n",
    "#import subprocess\n",
    "import os\n",
    "import time\n",
    "import re\n",
    "import sys\n",
    "import random\n",
    "import pandas as pd\n",
    "import time"
   ]
  },
  {
   "cell_type": "code",
   "execution_count": 14,
   "metadata": {
    "collapsed": false,
    "scrolled": false
   },
   "outputs": [],
   "source": [
    "class Worker(multiprocessing.Process):\n",
    "    \n",
    "    def __init__(self,name,n,out_q):\n",
    "        super(Worker,self).__init__()\n",
    "        self.name = name\n",
    "        self.n = n\n",
    "        self.out_q = out_q\n",
    "    \n",
    "    def run(self):\n",
    "        print \"Start\",self.name\n",
    "        output = self.name\n",
    "        max = 10\n",
    "        gomi=[\"🍄\",\"🐡\",\"🐐\",\"🍺\",\"💀\",\"🐟\",\"🐭\",\n",
    "              \"🐹\",\"🐷\",\"🐂\",\"🐑\",\"🐗\",\"🐘\",\"🦒\",\"🍅\",\n",
    "              \"🍆\",\"🥕\",\"🎃\",\"🌽\",\"🍔\",\"🍙\",\"🍕\",\"🍢\",\"👻\"]\n",
    "        #gomi=\"qwertyuiopasdfghjkl\"\n",
    "        for i in range(self.n):\n",
    "            num = random.randint(1,len(gomi))\n",
    "            works=\"\"\n",
    "            for j in range(num):\n",
    "                works += random.choice(gomi)\n",
    "            output = self.name +\",\" + str(i)+\",\"+works+\"\\n\"\n",
    "            start_time = time.time()\n",
    "            if self.out_q.full():\n",
    "                print >> sys.stderr, \"%\",\n",
    "            self.out_q.put(output)\n",
    "            #sys.stdout.flush()\n",
    "            elapsed_time = time.time() - start_time\n",
    "\n",
    "            print \" {:6.4f}s {}\".format(elapsed_time,output),\n",
    "            time.sleep(.01)\n",
    "\n",
    "        print p.name,\"finished\"\n",
    "    \n"
   ]
  },
  {
   "cell_type": "code",
   "execution_count": 15,
   "metadata": {
    "collapsed": false,
    "scrolled": false
   },
   "outputs": [
    {
     "name": "stdout",
     "output_type": "stream",
     "text": [
      "Start А\n",
      "Start Б\n",
      " 0.0026s А,0,🍺👻🍔🐟🌽🍄🍙🐡💀🌽\n",
      " 0.0008s А,1,🐭🥕🥕🐭🐹🐟🐭🐡🍺🍙💀🍕🐭👻🐗🍢🐟🐭🐭🌽\n",
      " 0.0063s Б,0,🍙🐹🐷🍅🐂🍕🐐🐟🍢🍆🐗\n",
      " 0.0001s Б,1,🍆🎃🦒🍅💀\n",
      "А finished\n",
      "Б finished\n",
      "-\n",
      "w 2 procs\n",
      "🤨 А,0,🍺👻🍔🐟🌽🍄🍙🐡💀🌽\n",
      "🤨 А,1,🐭🥕🥕🐭🐹🐟🐭🐡🍺🍙💀🍕🐭👻🐗🍢🐟🐭🐭🌽\n",
      "🤨 Б,0,🍙🐹🐷🍅🐂🍕🐐🐟🍢🍆🐗\n",
      "🤨 Б,1,🍆🎃🦒🍅💀\n",
      "-\n",
      "w 0 procs\n"
     ]
    }
   ],
   "source": [
    "out_q = multiprocessing.Queue(5)\n",
    "procs = []\n",
    "names=[\"А\",\"Б\"]#,\"В\"]#,\"Г\",\"Д\",\"Е\",\"Ё\",\"Ж\",\"З\",\"И\",\"Й\",\"К\",\"Л\",\"М\"]\n",
    "nprocs = len(names)\n",
    "\n",
    "for i in range(nprocs):\n",
    "    p = Worker(names[i], nprocs, out_q)\n",
    "    procs.append(p)\n",
    "    p.start()\n",
    "\n",
    "result = \"\"\n",
    "# Wait for all worker processes to finish\n",
    "not_finished = nprocs\n",
    "while not_finished > 0:\n",
    "    # Read from queue\n",
    "    try:\n",
    "        out = out_q.get_nowait()\n",
    "        print \"🤨\",out,\n",
    "        result += str(out)\n",
    "    except Empty:\n",
    "        print \"-\"\n",
    "    \n",
    "    # Check finished procs\n",
    "    not_finished = nprocs\n",
    "    for p in procs:\n",
    "        if not p.is_alive():\n",
    "            not_finished -= 1\n",
    "    print \"w\",not_finished,\"procs\"    \n",
    "    time.sleep(.1)\n",
    "    while not out_q.empty():\n",
    "        try:\n",
    "            out = out_q.get_nowait()\n",
    "            print \"🤨\",out,\n",
    "            result += str(out)\n",
    "        except Empty:\n",
    "            print \"!!!!\"\n",
    "\n",
    "#print \"Result🤨\\n\",result"
   ]
  },
  {
   "cell_type": "code",
   "execution_count": 16,
   "metadata": {
    "collapsed": false,
    "scrolled": false
   },
   "outputs": [
    {
     "data": {
      "text/html": [
       "<div>\n",
       "<style scoped>\n",
       "    .dataframe tbody tr th:only-of-type {\n",
       "        vertical-align: middle;\n",
       "    }\n",
       "\n",
       "    .dataframe tbody tr th {\n",
       "        vertical-align: top;\n",
       "    }\n",
       "\n",
       "    .dataframe thead th {\n",
       "        text-align: right;\n",
       "    }\n",
       "</style>\n",
       "<table border=\"1\" class=\"dataframe\">\n",
       "  <thead>\n",
       "    <tr style=\"text-align: right;\">\n",
       "      <th></th>\n",
       "      <th>W</th>\n",
       "      <th>N</th>\n",
       "      <th>Gomi</th>\n",
       "    </tr>\n",
       "  </thead>\n",
       "  <tbody>\n",
       "    <tr>\n",
       "      <th>0</th>\n",
       "      <td>А</td>\n",
       "      <td>0</td>\n",
       "      <td>🍺👻🍔🐟🌽🍄🍙🐡💀🌽</td>\n",
       "    </tr>\n",
       "    <tr>\n",
       "      <th>1</th>\n",
       "      <td>А</td>\n",
       "      <td>1</td>\n",
       "      <td>🐭🥕🥕🐭🐹🐟🐭🐡🍺🍙💀🍕🐭👻🐗🍢🐟🐭🐭🌽</td>\n",
       "    </tr>\n",
       "    <tr>\n",
       "      <th>2</th>\n",
       "      <td>Б</td>\n",
       "      <td>0</td>\n",
       "      <td>🍙🐹🐷🍅🐂🍕🐐🐟🍢🍆🐗</td>\n",
       "    </tr>\n",
       "    <tr>\n",
       "      <th>3</th>\n",
       "      <td>Б</td>\n",
       "      <td>1</td>\n",
       "      <td>🍆🎃🦒🍅💀</td>\n",
       "    </tr>\n",
       "  </tbody>\n",
       "</table>\n",
       "</div>"
      ],
      "text/plain": [
       "   W  N                                      Gomi\n",
       "0  А  0                      🍺👻🍔🐟🌽🍄🍙🐡💀🌽\n",
       "1  А  1  🐭🥕🥕🐭🐹🐟🐭🐡🍺🍙💀🍕🐭👻🐗🍢🐟🐭🐭🌽\n",
       "2  Б  0                    🍙🐹🐷🍅🐂🍕🐐🐟🍢🍆🐗\n",
       "3  Б  1                                🍆🎃🦒🍅💀"
      ]
     },
     "execution_count": 16,
     "metadata": {},
     "output_type": "execute_result"
    }
   ],
   "source": [
    "columns = [\"W\",\"N\",\"Gomi\"]\n",
    "df = pd.DataFrame(index=[],columns=columns)\n",
    "rows = result.splitlines()\n",
    "for i in range(len(rows)):\n",
    "    line = rows[i].split(\",\")\n",
    "    df.loc[i] = line\n",
    "#df = df.reset_index()\n",
    "df"
   ]
  },
  {
   "cell_type": "code",
   "execution_count": 17,
   "metadata": {
    "collapsed": false
   },
   "outputs": [
    {
     "name": "stdout",
     "output_type": "stream",
     "text": [
      "   W  N                                      Gomi\n",
      "0  А  0                      🍺👻🍔🐟🌽🍄🍙🐡💀🌽\n",
      "1  А  1  🐭🥕🥕🐭🐹🐟🐭🐡🍺🍙💀🍕🐭👻🐗🍢🐟🐭🐭🌽\n",
      "2\n",
      "=========\n",
      "   W  N                    Gomi\n",
      "2  Б  0  🍙🐹🐷🍅🐂🍕🐐🐟🍢🍆🐗\n",
      "3  Б  1              🍆🎃🦒🍅💀\n",
      "2\n",
      "=========\n"
     ]
    }
   ],
   "source": [
    "workerdfs={}\n",
    "for W in names:\n",
    "    workerdfs[W] = df[df.W== W]\n",
    "    print workerdfs[W]\n",
    "    print len(workerdfs[W])\n",
    "    print \"=========\"\n"
   ]
  },
  {
   "cell_type": "code",
   "execution_count": 18,
   "metadata": {
    "collapsed": false
   },
   "outputs": [
    {
     "data": {
      "text/html": [
       "<div>\n",
       "<style scoped>\n",
       "    .dataframe tbody tr th:only-of-type {\n",
       "        vertical-align: middle;\n",
       "    }\n",
       "\n",
       "    .dataframe tbody tr th {\n",
       "        vertical-align: top;\n",
       "    }\n",
       "\n",
       "    .dataframe thead th {\n",
       "        text-align: right;\n",
       "    }\n",
       "</style>\n",
       "<table border=\"1\" class=\"dataframe\">\n",
       "  <thead>\n",
       "    <tr style=\"text-align: right;\">\n",
       "      <th></th>\n",
       "      <th>W</th>\n",
       "      <th>N</th>\n",
       "      <th>Gomi</th>\n",
       "    </tr>\n",
       "  </thead>\n",
       "  <tbody>\n",
       "    <tr>\n",
       "      <th>0</th>\n",
       "      <td>А</td>\n",
       "      <td>0</td>\n",
       "      <td>🍺👻🍔🐟🌽🍄🍙🐡💀🌽</td>\n",
       "    </tr>\n",
       "    <tr>\n",
       "      <th>1</th>\n",
       "      <td>А</td>\n",
       "      <td>1</td>\n",
       "      <td>🐭🥕🥕🐭🐹🐟🐭🐡🍺🍙💀🍕🐭👻🐗🍢🐟🐭🐭🌽</td>\n",
       "    </tr>\n",
       "  </tbody>\n",
       "</table>\n",
       "</div>"
      ],
      "text/plain": [
       "   W  N                                      Gomi\n",
       "0  А  0                      🍺👻🍔🐟🌽🍄🍙🐡💀🌽\n",
       "1  А  1  🐭🥕🥕🐭🐹🐟🐭🐡🍺🍙💀🍕🐭👻🐗🍢🐟🐭🐭🌽"
      ]
     },
     "execution_count": 18,
     "metadata": {},
     "output_type": "execute_result"
    }
   ],
   "source": [
    "workerdfs[\"А\"]"
   ]
  },
  {
   "cell_type": "code",
   "execution_count": null,
   "metadata": {
    "collapsed": false
   },
   "outputs": [],
   "source": [
    "workerdfs[\"Б\"]"
   ]
  }
 ],
 "metadata": {
  "kernelspec": {
   "display_name": "Python 2",
   "language": "python",
   "name": "python2"
  },
  "language_info": {
   "codemirror_mode": {
    "name": "ipython",
    "version": 2
   },
   "file_extension": ".py",
   "mimetype": "text/x-python",
   "name": "python",
   "nbconvert_exporter": "python",
   "pygments_lexer": "ipython2",
   "version": "2.7.12"
  }
 },
 "nbformat": 4,
 "nbformat_minor": 2
}
