{
 "cells": [
  {
   "cell_type": "markdown",
   "metadata": {},
   "source": [
    "# Use this notebook for developing mlframe prototype 2\n",
    "\n",
    "## Object-oriented approach. Test 1."
   ]
  },
  {
   "cell_type": "code",
   "execution_count": 246,
   "metadata": {},
   "outputs": [],
   "source": [
    "import multiprocessing\n",
    "from Queue import Queue, Empty\n",
    "import subprocess\n",
    "import os\n",
    "import time\n",
    "import re\n",
    "import sys"
   ]
  },
  {
   "cell_type": "code",
   "execution_count": 247,
   "metadata": {},
   "outputs": [],
   "source": [
    "def printObj(obj):\n",
    "    for key,val in obj.__dict__.iteritems():\n",
    "        print key,\"=\",val"
   ]
  },
  {
   "cell_type": "code",
   "execution_count": 273,
   "metadata": {},
   "outputs": [],
   "source": [
    "# Class for executing commands in background processes.\n",
    "# command_and_args should be an instance of class Command,\n",
    "# but can also be a list or a string with the command and arguments separated with spaces.\n",
    "# It can be used for executing remote processes in background. For that purpose exec_remote.sh should be used.\n",
    "# Usage sample: \n",
    "# d = BashExecutor(command,hostname=hostname)\n",
    "# d.start()\n",
    "# exec_remote.sh must output subprocess exit code in the form:\n",
    "# exitcode=N\n",
    "# , where N is the number.\n",
    "class BashExecutor(multiprocessing.Process):\n",
    "    \n",
    "    def __init__(self, command_and_args, debug=False, hostname=\"\"):\n",
    "        super(BashExecutor,self).__init__()\n",
    "        self.debug = debug\n",
    "        self.hostname = hostname\n",
    "        if self.debug: print \"command args:\",command_and_args\n",
    "        if type(command_and_args) is str:\n",
    "            self.command = command_and_args.split(\" \")\n",
    "        else:\n",
    "            self.command=command_and_args\n",
    "        self.exitcode_pat = re.compile(\"^exitcode=(\\d+)\")\n",
    "        manager = multiprocessing.Manager()\n",
    "        d = manager.dict()\n",
    "        self.d = d\n",
    "        if isinstance(self.command,Command):\n",
    "            self.d.command = self.command\n",
    "        #if self.debug: print \"self.command=\",self.command\n",
    "        #self.daemon = True\n",
    "        \n",
    "    # Poll exit code of self.proc and store it if not None.\n",
    "    def poll(self):\n",
    "        ec = self.proc.poll()\n",
    "        if ec is not None:\n",
    "            # Set exticode only if subprocess didn't set it __handleOutput__\n",
    "            self.setExitCode(ec)\n",
    "        return ec\n",
    "    \n",
    "    # Set given exit code to Command class object\n",
    "    def setExitCode(self, ec):\n",
    "        if self.debug: print \"setting exit code to\",ec\n",
    "        self.d[\"exitcode\"] = ec\n",
    "        if isinstance(self.command, Command): \n",
    "            if self.d.command.exitcode is None:\n",
    "                self.d.command.exitcode = ec\n",
    "            if self.debug:\n",
    "                print \"Set exit code to\",ec\n",
    "                if ec is not None:\n",
    "                    printObj(self.d.command)\n",
    "            # Set Manager() dictionary \"command\" to Command object with set exitcode\n",
    "            self.d[\"command\"] = self.command\n",
    "        \n",
    "            \n",
    "    \n",
    "    # Copy process stdout to self.stdout queue line by line.\n",
    "    def __handleOutput__(self, q):\n",
    "        if self.debug: print self.name, \"Handle output\"\n",
    "        proc = self.proc\n",
    "        for line in iter(proc.stdout.readline, b''):\n",
    "            m = self.exitcode_pat.match(line)\n",
    "            if m is not None:\n",
    "                if self.debug: print \"=Exitcode match\",m.group(0)\n",
    "                self.setExitCode(m.group(0))\n",
    "            q.put(line)\n",
    "            #if self.debug:\n",
    "            #    print self.hostname,line,\n",
    "            sys.stdout.flush()\n",
    "                    \n",
    "    # Copy process stderr to self.stderr queue line by line.\n",
    "    def __handleError__(self):\n",
    "        if self.debug: print self.name, \"Handle error\"\n",
    "        proc = self.proc\n",
    "        for line in iter(proc.stderr.readline, b''):\n",
    "            #self.stderr.put(line)\n",
    "            if line is not None and len(line)>0:\n",
    "                print \"!\",self.hostname,line,\n",
    "        \n",
    "    # Must be calles to start the process in background\n",
    "    def run(self):\n",
    "        if self.debug: \n",
    "            print \"In {}. Calling {}\".format(self.name,self.command)\n",
    "            print \"PID\",os.getpid(),\"name\",multiprocessing.current_process().name\n",
    "        if isinstance(self.command, Command):\n",
    "            command = self.command.command.split(\" \")\n",
    "        else:\n",
    "            command = self.command\n",
    "        if self.debug: print \"Executing\",command\n",
    "        proc = subprocess.Popen(command, stdout=subprocess.PIPE, stderr=subprocess.PIPE, bufsize=1, shell=False)\n",
    "        self.proc = proc\n",
    "        out_q = multiprocessing.Queue()\n",
    "        p_out = multiprocessing.Process(target=self.__handleOutput__,args=(out_q,))\n",
    "        p_out.start()\n",
    "        p_err = multiprocessing.Process(target=self.__handleError__)\n",
    "        p_err.start()\n",
    "        if self.debug: print self.name, \"process started\"\n",
    "        while self.poll() is None:\n",
    "            try:\n",
    "                line = out_q.get_nowait()                \n",
    "                if self.debug:\n",
    "                    print self.name,\"stdout:\",line\n",
    "            except Empty:\n",
    "                if self.debug: print \"Queue empty\"\n",
    "            time.sleep(1)\n",
    "            \n",
    "        #self.__handleOutput__(proc)\n",
    "        if self.debug:\n",
    "            print \"Exiting\",multiprocessing.current_process().name, self.d[\"exitcode\"]\n",
    "            #print \"self=\",self\n",
    "            #for key,val in self.__dict__.iteritems():\n",
    "            #    print key,\"=\",val\n",
    "        return\n",
    "    \n",
    "    def nameYourself(self):\n",
    "        cp = multiprocessing.current_process()\n",
    "        print \"name\",cp._name\n",
    "        print \"parent pid\",cp._parent_pid\n",
    "        print \"id\",cp._identity\n",
    "    \n",
    "    def getExitcode(self):\n",
    "        print self.d\n",
    "        if isinstance(self.command, Command):\n",
    "            return self.d.command.exitcode\n",
    "        return None\n",
    "            "
   ]
  },
  {
   "cell_type": "code",
   "execution_count": 274,
   "metadata": {},
   "outputs": [],
   "source": [
    "# Execute command on remote (or local) host in background, using exec_remote.sh and BashExecutor instance.\n",
    "# Command can be any command or executable file name.\n",
    "# Arguments must be in a string separated with spaces.\n",
    "def RemoteExec(host, command_and_args, debug=False):    \n",
    "    if debug: print \"RemoteExec commands and args:\",command_and_args\n",
    "    CA = command_and_args.split(\" \")\n",
    "    if debug: print CA\n",
    "    command = CA[0]\n",
    "    args = CA[1:]\n",
    "    if debug: print \"Command:\",command\n",
    "    if debug: print \"Args:\",args\n",
    "    package_directory = os.path.dirname(os.getcwd())\n",
    "    scripts_location=os.path.realpath(os.path.join(package_directory,\"mlframe\",\"scripts\"))\n",
    "    exec_remote_script=\"exec_remote.sh\"\n",
    "    script_path = os.path.join(scripts_location,exec_remote_script)\n",
    "    \n",
    "    # Merge args into a string\n",
    "    command_script_path = os.path.join(scripts_location, command)\n",
    "    if debug: print \"Test if script file exists in RemoteExec\",command_script_path\n",
    "    if os.path.isfile(command_script_path):\n",
    "        command = command_script_path\n",
    "    if debug: print \"Command:\",command\n",
    "          \n",
    "    if host == \"\" or host == \"localhost\" or host == \"127.0.07\":\n",
    "        command_args_list = [command] + args\n",
    "    else:\n",
    "        command_args_list = [script_path] + [host] + [command] + args\n",
    "    if debug: print \"Calling BashExecutor with args\",command_args_list\n",
    "    d = BashExecutor(command_args_list, hostname=host, debug=debug)\n",
    "    d.start()\n",
    "\n",
    "    #for d in jobs:\n",
    "    #    d.join()\n",
    "    \n",
    "    if debug: print \"finished\",host,command"
   ]
  },
  {
   "cell_type": "code",
   "execution_count": 275,
   "metadata": {},
   "outputs": [],
   "source": [
    "# Class for storing command, it's stdout, stderr and exit code\n",
    "class Command(object):\n",
    "    \n",
    "    def __init__(self, command):\n",
    "        self.command = command\n",
    "        self.stdout=\"\"\n",
    "        self.stderr=\"\"\n",
    "        self.exitcode=None\n",
    "        "
   ]
  },
  {
   "cell_type": "code",
   "execution_count": 276,
   "metadata": {},
   "outputs": [],
   "source": [
    "# Class for storing host-related data: hostname, access key and username.\n",
    "# Stores commands (instances of Command class) executed on the host.\n",
    "# Has methods for connecting to the host with ssh, connection test, executing commands.\n",
    "class Host(object):\n",
    "    \n",
    "    commands = []\n",
    "    \n",
    "    def __init__(self, hostname, address = \"localhost\", user = \"\", key = \"\",debug=False):\n",
    "        self.hostname = hostname\n",
    "        self.address = address\n",
    "        self.user = user\n",
    "        self.key = key\n",
    "        self.debug = debug\n",
    "        ssh_command = \"ssh \"\n",
    "        if key != \"\":\n",
    "            ssh_command += \"-i \"+key+\" \"\n",
    "        if user != \"\":\n",
    "            ssh_command += user+\"@\"\n",
    "        ssh_command += address\n",
    "        self.ssh_command = ssh_command\n",
    "        if debug:\n",
    "            print \"hostname,address,user,key:\",self.hostname,self.address,self.user,self.key\n",
    "            print \"ssh command:\",ssh_command\n",
    "        \n",
    "    def ping(self, N=5):\n",
    "        d = BashExecutor(\"ping -c \"+str(N)+\" \"+self.address, debug=self.debug)\n",
    "        d.start()\n",
    "        while d.getExitcode() is None:\n",
    "            print d.getExitcode()\n",
    "            time.sleep(3)\n",
    "        if self.debug:\n",
    "            print \"Finished with exit code:\"\n",
    "        print d.getExitcode()\n",
    "        \n",
    "    \n",
    "    def connect_test(self):\n",
    "        options = \" -o ConnectTimeout=5\"\n",
    "        command = self.ssh_command+options+ \" hostname\"        \n",
    "        proc = subprocess.Popen(command.split(\" \"), \n",
    "                                stdout=subprocess.PIPE, stderr=subprocess.PIPE)\n",
    "        \n",
    "        for line in iter(proc.stdout.readline, b''):\n",
    "            print line\n",
    "        for line in iter(proc.stderr.readline, b''):\n",
    "            print \"err:\",line\n",
    "        "
   ]
  },
  {
   "cell_type": "code",
   "execution_count": 277,
   "metadata": {},
   "outputs": [
    {
     "name": "stdout",
     "output_type": "stream",
     "text": [
      "command args: ping -c 2 mouse.local\n",
      "<BashExecutor(BashExecutor-65, started)>\n",
      "In BashExecutor-65. Calling ['ping', '-c', '2', 'mouse.local']\n",
      "PID 72108 name BashExecutor-65\n",
      "Executing ['ping', '-c', '2', 'mouse.local']\n",
      "BashExecutor-65 process started\n",
      "Queue empty\n",
      "BashExecutor-65 Handle error\n",
      "BashExecutor-65 Handle output\n",
      "BashExecutor-65 stdout: PING mouse.local (192.168.83.30): 56 data bytes\n",
      "\n",
      "setting exit code to 0\n",
      "Exiting BashExecutor-65 0\n"
     ]
    }
   ],
   "source": [
    "d = BashExecutor(\"ping -c 2 mouse.local\", debug=True)\n",
    "d.start()\n",
    "print d"
   ]
  },
  {
   "cell_type": "code",
   "execution_count": 278,
   "metadata": {},
   "outputs": [
    {
     "name": "stdout",
     "output_type": "stream",
     "text": [
      "{'exitcode': 0}\n",
      "None\n"
     ]
    }
   ],
   "source": [
    "print d.getExitcode()"
   ]
  },
  {
   "cell_type": "code",
   "execution_count": 279,
   "metadata": {},
   "outputs": [
    {
     "name": "stdout",
     "output_type": "stream",
     "text": [
      "command args: <__main__.Command object at 0x11091ca50>\n",
      "<BashExecutor(BashExecutor-67, started)>\n",
      "In BashExecutor-67. Calling <__main__.Command object at 0x11091ca50>\n",
      "PID 72201 name BashExecutor-67\n",
      "Executing ['ping', '-c', '2', 'jetson.local']\n",
      "BashExecutor-67 process started\n",
      "Queue empty\n",
      "BashExecutor-67 Handle error\n",
      "BashExecutor-67 Handle output\n",
      "Queue empty\n",
      "Queue empty\n",
      "Queue empty\n",
      "Queue empty\n",
      "!  ping: cannot resolve jetson.local: Unknown host\n",
      "setting exit code to 68\n",
      "Set exit code to 68\n",
      "exitcode = 68\n",
      "command = ping -c 2 jetson.local\n",
      "stderr = \n",
      "stdout = \n",
      "Exiting BashExecutor-67 68\n"
     ]
    }
   ],
   "source": [
    "comm = Command(\"ping -c 2 jetson.local\")\n",
    "d2 = BashExecutor(comm, debug=True)\n",
    "d2.start()\n",
    "print d2"
   ]
  },
  {
   "cell_type": "code",
   "execution_count": 284,
   "metadata": {},
   "outputs": [
    {
     "name": "stdout",
     "output_type": "stream",
     "text": [
      "{'command': <__main__.Command object at 0x11091cfd0>, 'exitcode': 68}\n",
      "None\n",
      "None\n"
     ]
    }
   ],
   "source": [
    "print d2.getExitcode()\n",
    "print d2.command.exitcode"
   ]
  },
  {
   "cell_type": "code",
   "execution_count": null,
   "metadata": {},
   "outputs": [],
   "source": [
    "key = \"~/.ssh/id_rsa_com\"\n",
    "mouse = Host(\"mouse\",\"mouse.local\",user=\"peter\",key=key,debug=True)"
   ]
  },
  {
   "cell_type": "code",
   "execution_count": null,
   "metadata": {},
   "outputs": [],
   "source": [
    "mouse.ping(1)\n",
    "# mouse.connect_test()"
   ]
  },
  {
   "cell_type": "code",
   "execution_count": null,
   "metadata": {},
   "outputs": [],
   "source": [
    "muse = Host(\"muse\",\"52.158.238.181\", user=\"ubuntu\", key=key,debug=False)"
   ]
  },
  {
   "cell_type": "code",
   "execution_count": null,
   "metadata": {},
   "outputs": [],
   "source": [
    "muse.ping()\n",
    "muse.connect_test()"
   ]
  },
  {
   "cell_type": "code",
   "execution_count": null,
   "metadata": {},
   "outputs": [],
   "source": [
    "reedbush = Host(\"reedbush\",\"reedbush.cc.u-tokyo.ac.jp\","
   ]
  }
 ],
 "metadata": {
  "kernelspec": {
   "display_name": "Python 2",
   "language": "python",
   "name": "python2"
  },
  "language_info": {
   "codemirror_mode": {
    "name": "ipython",
    "version": 2
   },
   "file_extension": ".py",
   "mimetype": "text/x-python",
   "name": "python",
   "nbconvert_exporter": "python",
   "pygments_lexer": "ipython2",
   "version": "2.7.11"
  }
 },
 "nbformat": 4,
 "nbformat_minor": 2
}
